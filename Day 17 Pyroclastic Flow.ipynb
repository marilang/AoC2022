{
 "cells": [
  {
   "cell_type": "markdown",
   "id": "4e0de73c",
   "metadata": {},
   "source": [
    "# Day 17: Pyroclastic Flow\n",
    "\n",
    "Looks kind of like tetris. https://adventofcode.com/2022/day/17\n",
    "\n",
    "Oddly-shaped rocks appear out of nowhere in mid-air. Jets of hot gas push them to the left and right as they fall. The elephants are testing me. How tall will the tower be, after the 2022nd rock falls?"
   ]
  },
  {
   "cell_type": "code",
   "execution_count": 53,
   "id": "72a8b3d1",
   "metadata": {},
   "outputs": [],
   "source": [
    "example = False\n",
    "total_rocks = 3325"
   ]
  },
  {
   "cell_type": "markdown",
   "id": "6a2675ee",
   "metadata": {},
   "source": [
    "<hr>"
   ]
  },
  {
   "cell_type": "code",
   "execution_count": 54,
   "id": "dafe08ef",
   "metadata": {},
   "outputs": [],
   "source": [
    "import numpy as np\n",
    "import pandas as pd"
   ]
  },
  {
   "cell_type": "markdown",
   "id": "957561e8",
   "metadata": {},
   "source": [
    "Rock can move left, right, or down if it is not blocked by the walls or by resting rock."
   ]
  },
  {
   "cell_type": "code",
   "execution_count": 55,
   "id": "9d40d495",
   "metadata": {},
   "outputs": [],
   "source": [
    "def gas_jet(jetseq):\n",
    "    '''return the next character and remainder of the string, repeating the sequence if needed'''\n",
    "    jet = jetseq[0]\n",
    "    if len(jetseq) == 1:\n",
    "        jetseq = puzzle\n",
    "    else:\n",
    "        jetseq = jetseq[1:]\n",
    "    return jet, jetseq\n",
    "\n",
    "\n",
    "def blocked_right(tower):\n",
    "    '''blocked if any part of a moving rock is in rightmost column or up against resting rock'''\n",
    "    for row in tower:\n",
    "        if row[len(row)-1] == 1:\n",
    "            return True\n",
    "        else:\n",
    "            for i in range(len(row)):\n",
    "                if row[i] == 1 and row[i+1] == 2:\n",
    "                    return True\n",
    "    return False\n",
    "\n",
    "\n",
    "def moveright(tower):\n",
    "    '''shift moving rock to right'''\n",
    "    if not blocked_right(tower):\n",
    "        for rownum in range(len(tower)):\n",
    "            for position in range(len(tower[rownum])-1, -1, -1):\n",
    "                if tower[rownum, position] == 1 and tower[rownum, position+1] == 0:\n",
    "                    tower[rownum, position+1] = 1\n",
    "                    tower[rownum, position] = 0\n",
    "    return tower\n",
    "                \n",
    "\n",
    "def blocked_left(tower):\n",
    "    '''blocked if any part of a moving rock is in leftmost column or up against resting rock'''\n",
    "    for row in tower:\n",
    "        if row[0] == 1:\n",
    "            return True\n",
    "        else:\n",
    "            for i in range(len(row)):\n",
    "                if row[i] == 1 and row[i-1] == 2:\n",
    "                    return True\n",
    "    return False\n",
    "\n",
    "\n",
    "def moveleft(tower):\n",
    "    '''shift moving rock to left'''\n",
    "    if not blocked_left(tower):\n",
    "        for rownum in range(len(tower)):\n",
    "            for position in range(len(tower[rownum])):\n",
    "                if tower[rownum, position] == 1 and tower[rownum, position-1] == 0:\n",
    "                    tower[rownum, position-1] = 1\n",
    "                    tower[rownum, position] = 0\n",
    "    return tower\n",
    "                \n",
    "\n",
    "def blocked_below(tower):\n",
    "    '''blocked if any part of a moving rock is directly above resting rock'''\n",
    "    for rownum in range(len(tower)-1):\n",
    "        for position in range(len(tower[rownum])):\n",
    "            if tower[rownum, position] == 1 and tower[rownum + 1, position] == 2:\n",
    "                return True\n",
    "    return False\n",
    "\n",
    "\n",
    "def movedown(tower):\n",
    "    '''shift moving rock down'''\n",
    "    for rownum in range(len(tower)-2, -1, -1):\n",
    "        for position in range(len(tower[rownum])):\n",
    "            if tower[rownum, position] == 1 and tower[rownum+1, position] == 0:\n",
    "                tower[rownum+1, position] = 1\n",
    "                tower[rownum, position] = 0\n",
    "    return tower\n",
    "                \n",
    "\n",
    "def solidify(tower):\n",
    "    '''mark all moving rock as resting rock'''\n",
    "    for i in range(len(tower)-1):\n",
    "        for j in range(7):\n",
    "            if tower[i, j] == 1:\n",
    "                tower[i, j] = 2\n",
    "    return tower\n",
    "\n",
    "\n",
    "def settle(tower):\n",
    "    '''rock falls if possible, or comes to rest if blocked'''\n",
    "    if blocked_below(tower):\n",
    "        rest = True\n",
    "        tower = solidify(tower)\n",
    "    else:\n",
    "        rest = False\n",
    "        tower = movedown(tower)\n",
    "    return rest, tower\n",
    "\n",
    "\n",
    "def trim_top(tower):\n",
    "    '''remove blank rows from the top after the rock settles'''\n",
    "    while len(tower) > 0:\n",
    "        if sum(tower[0,:]) > 0:\n",
    "            break\n",
    "        else:\n",
    "            tower = np.delete(tower, 0, 0)\n",
    "    return tower\n",
    "\n",
    "\n",
    "def draw_tower(tower):\n",
    "    for row in range(len(tower)):\n",
    "        s = ''\n",
    "        for symbol in tower[row]:\n",
    "            s += '.@#'[symbol]\n",
    "        print(s)    "
   ]
  },
  {
   "cell_type": "code",
   "execution_count": 56,
   "id": "6140657c",
   "metadata": {},
   "outputs": [
    {
     "name": "stdout",
     "output_type": "stream",
     "text": [
      "Tower height: 5198\n"
     ]
    }
   ],
   "source": [
    "if example:\n",
    "    puzzle = '>>><<><>><<<>><>>><<<>>><<<><<<>><>><<>>'\n",
    "else:\n",
    "    puzzle = '''>>>><<<<>><<<>><<>><<<<>><<<<><<<><<<<>>>><<<>><<<>><<<<>><<><<<>>><<<>>><<>>><<>><<<>>><><>><<<>><><<>>><<<<><<<<>><<<<><<>>>><<>>>><<<<><<<<>><>><>>><<<<>><>>>><<<<>><<<><<<<>>>><<><>>>><<<>>><<<<>><<<<><>>><<<>>><<<<>>><<<>><<>>>><<>>><><<<>>>><<<<>>>><>>>><<<<>>><<>><<<<>><<>>>><<<>><<<>>>><>>>><<>>>><>><>>>><<<<>>><<<<>><<<<>>><<<<><<<>>>><<>>>><<<><<<<><<<<>><<<<>>>><>><<<<>>><<>><<<<>>><><<<><<>><<<<>><<>><<<<><>>><<>>><<><<<<>><<<<>><<>><><<<<>><>>><<<<>>>><>><<<<>>><<<><><<<>><<><>>>><<>>>><>><<>>><<<>>><<<><<>>><<><<>>>><<>>>><<<>>>><<<<>>><>>><>><>>>><<><>>><<<<><<>>><<<<>>>><<<>>><<>><><<>>>><><<<><<<<>>>><<><<<>>><<<>>><<>>>><<<<>><<<<>><<><>>><<<<>>><<<<>>>><<<<>><<<<>>><<<<>>>><<<<>><>>><<<><<><<<><<<<>><>>>><<<<>>>><<>><>>>><<<>>>><><<<<>>><<><<<>><<>>>><<><<<>><<>>><<<<>>>><<<<>><>><>><<><<>>>><<<><>><<>>>><<<>>><>>>><<<>>><<<<>>>><<<>>><>><<><>>>><>>><>>><><<>>>><>>><<>><<<><<>><<>>><>>>><<><>>><<<<>><>>><>>><>><<<<>>>><<<<>>><<<>><<<<>>><>>>><<<>>>><<>><<>>>><>><<>><<<<><<<<>>><<>>><<>>>><<>>><<<<>>>><>>>><<<>>><<<>>><<<<><<<>>><>><<<><<<<>>><<<>>>><>>><>><<>>>><><>>><>>>><<>>>><<<>>><<>><<><<<<>>><<<>>>><>><><<<>><><<<<><<<<>>><<<>>>><<<<>>><<>>>><>>><<<<>><<>>>><>>><>><>>>><<<<>>>><<<<>>>><<<<>><<<<>><<<>>>><>>>><<<>><<<>><<<<>>>><>>><<<>>><<<<><<<<><><>>>><<<>>>><<<><<>><><<>><<<>>>><<<<><>>><<<<>>>><>>>><<>>>><<<<>>>><><<>>>><<>><<<<><<<<>><<>>>><<<>>>><><>>>><<<>><><<<><<>>><<>>>><<<>><><>><<<<>>>><<><>>><><>>>><<<<>>>><<<>>><<<>>><<><>><<<>>><<>>><<<<><>><<<>>><>><>>><<<<>><<<>>>><<<>>><<>>><>><<>>><<<<>><>>><<<<>>>><<<<><<><>><<<<>>>><<<<><>>><<<<>>><<><><>>>><<>>>><<<<>><<<<>>>><<><>>><<<<>>>><<<><<>>><<>>><<<>>>><<<>>>><<>>>><<<>>><><<<>><><<<<><<>><<<<><<<><<<>>><<<>>>><>><<<<>>>><<>>>><<>>>><<<>>>><>>>><<<>>><>><>>><>><><>>>><<><<>><<<>>>><<<><<<>>>><<<<>><<<><>>>><<<><<><>><<<><<><<<<>><>>><<<><<>>><<<<>><><<<>>><<<<>><<>><<>>>><>><<>><><<<<>><<<<>><<<<>>>><><<<>>><<>><>>><>><>>>><<<<><<>>>><>><>><<<>><<<><>><<<><>>><<<><<<<>><<<>>><<<<><>><<<<>>>><<><>>><<><<<>>>><<>>>><>>><<<<>><><<>>><<>><<<<>><<<<>>><<><<<>>><<<>><>><<<>>>><<>>><<<<>><>>>><>>><<<>><<<<>>>><>>>><<>><>><<<><<><<<<><<<<>>><<<>>><<<><><<<>><<<<>>>><<<><<<<>><<>>><<<<>><>>>><<<>><<>>>><<<<><<<<><<><<<>>>><<<>>>><<<>>><>>><<<<>>>><>>>><<<><<<><<>><<><<<<>>>><<<>>>><<<<>><<<>>><<<>>><><<<<><<>>><<><<<><<<<>><<>><>><<<>>><<>>>><<<<>>><<<<>>>><><>><<<<>>><<<<>>>><<<>>>><<>><<<<>>>><<>><<<<>>><<<<>>>><<>>><><<<<>><<><<<>>>><<>><<>><<<<>>>><<<><<<>>><<<<>><<<<>><<<>>>><<>>>><>>><<<<><<>>><<>>>><>>><<<<>>>><<>>><<<>>><<<<>><<><<<>>>><<><<<>><<><<<<>>><<<<>><<<>>>><><<<<>>>><<<<><<<><<>><<<<>><>>>><>><<<<><<<>><<<>>>><<>>><<<>>>><<<><<<<>><<<>>><<<<>>><<<><<>>>><<<<>>>><>>>><<>>>><<<><><<<<>>>><>>>><>>><><<>>><<>>>><<<>>><<>>>><<<>><<>><<<<>>>><<>>><<>>><<><>>>><>>>><<<<><<>>>><<<<>><<<<>>>><<>><>><>><<<>><<<><>><<>>>><<><<<>>>><<>>>><><<<><<<>><<<><<<<>>>><<<>><<>><><<<<>><<<<>>>><<<>>><<><<<<>>>><<>><><<<><><<<<>>><<<<>>>><>><<>>>><<>>>><<<<>>><<<<>>>><<<>><<<>><<<<>>><<<<><<>><<<><>>>><>><<<<>>><>>>><>>>><>>>><<>><<<<>><<<<>><><<<><>>>><<<>><>>>><<<<>>>><<<>><>>>><<<<><<<<>>><<<<>>><>>><<>>><>>><>>><<<>>><<>><<<>><>>>><<<<><<<><<<<>>>><<>><<<<>><<><<<<>>><<<<>><<<<>><<<><<<<>><<>><>>><<><<>><<>><<<>>>><<<<><>>>><>>><<<>>><<>><<<<>><<<<>>>><<>>><<>><<>>><>><>>>><<><<<>>>><<>>>><>>>><<><<<><>><<<<>>><<<><<>><<<<>>><<<>>><<<><<<<><<<<><<<<>><><<>>><>>>><>><<<>>>><><>><<<><<<<>><<>>><<><<><<<<><<>><<><<<>>>><<<><><<<<><<<><<<<>>><<<<><>><<<<>>>><<<>>>><<<>>>><>>><<><<>>><<<>><<<><<<><<<<><>><><><<<>>>><<><<>>><><>>><<><<<>><<>>>><<<<>>>><<<>><<<>>><><<<<>><<>>><<<>><>><<>><<>>>><<><<<>>>><>><<<<><<><<<>>>><<<<>>><<<<><><<<>><<<><<<>>><<<<><<<>><<<>><<>>>><>>><<<>>>><<<><><>><<<<>>><><<<><<><<>>><<<<><<<<>><<<<>>>><<<<>>><<<<><<><<>><><<>>>><<<>>>><<>>>><<<>>>><<>>><>><<<>>><<<<><>>><<>>><>><<>><<><<<><<<>><><><>>>><<<>><<<<><<<>>><<<>>>><>>><<>><<><<<<>>><<>>><<>>><<<<>>><><<<>>><<<>>>><<><>>><<><>>>><<<<>>><<<>><<<<>><<<<>><>>><<<<>>>><>>>><<>>>><<><<>><><>>><<<<>>><<><<<>>>><<>><<<<>>><<><<><<><><<<<><>><>>><<<>><<><<>><<<<>>>><<<>><<<>><<<<>>>><<>>>><<>>><<<>>><<<><<<>>>><><><<<>>>><>>>><<<>>><>><<<><<>><<<<>>>><<<>>>><<<<>>>><>>>><<<<>><>>>><<<<><>><<<<>><<<>><<<>><<<<>>><>>><>>><>>><<<>>>><<<<>><<<>><<><>><<>><>>><>>>><<>><<<<>><<>>>><>>>><<>>>><<<<><>>>><<<><<><<<<><<>>><<<>>><>><<><<<>>>><<<>>><<>>><><<><>>><<<<>>>><>>><<>><><<<<>>>><>>>><<<><<<<>><<>>>><<<<><<<<>>><<<><<<>>>><>>><<<<>>>><<<<>>>><<><<<<>><<<<><>>>><>>><><<>><<<<><<<<>><>>>><<<<><>>><<<>>>><<<>>><<<<>>><<><<<<>>><<<>><<<<>>><<<>><<>>>><<<>><<<<>>><<<>>>><<<<>><<>>>><<<>><<<<><<<<>>><<<<>>>><><<<>>>><><<<<>><<>>>><>>>><<>>>><<><<><>>><>><<<<><<<><<<><<>>><<<>><<<<>>><<<>><<>>><>><>>>><<<>>>><<>>>><<<>>>><<<<>>>><<<>>><<<<>><>><><>>><<<<>><<<>><<<>>>><<<<>><>>>><<>>><<<<><>><<<>>><<<>>>><<<><<<<>>>><<<><>>>><<<<>><>>><<>><><<<<>><<<<>><<<>>><<<>>>><<<<>>><>>>><<>><><<><<>><<<><<<>><<<><><<<<><<>><<<<>>>><<<<>>>><<>>>><<<<>>><<<<>>>><<<<>>>><>>><<<>><<<>><<><<<><<<>><<<<><<>>>><>>><<<>>><><<>>><<<>><>>>><<<>><<>><<<<>><<<<>>>><<<<>>><<>>>><>>>><<<<>>><>><<>>><<>><<<<>>><<>><<<<>>><<>>><>>><<<>>><<><<><<>><><>>><<><>><>>><>><<<<>>>><<<>><>>><<<>><<<<>><<>>>><<><><<<<><>><>><<>><<<>><<<<>>>><<<<>>>><><<<>>><<<<>>>><<<<><<<<>>>><<<>>><<<<>>><<<>>><<<><<<>><>><>>><<<><>><>>>><>>>><<<>>><<><<<<>>><<>>>><<<><<<<>><<>><>>><<<><>>><<<>><<<<>><<<<><<<<><<<<>><><<>><<<<>>>><<<>>><<<<>>><<<><<<><<<<>><<<><>>>><<>><<<<>><<<<>>><>>>><<<<>>>><<<<>><>>><>>>><<<>>>><<><>><<><>>>><>>>><<>>><<<>>><<>>>><<>><>>><<<>><<<>>>><>>><<<><>>>><<><>>><<<<>><>>>><<<>><<<><<<><<>>><<<>>>><<<>>><<<<>>><<>>>><>>>><<>>>><<<<><<<>>><<<<><<>><>>><<<><<>>><>>><<<<>>>><<<><<<><>><<<>>><><<<>><<<<>>><<<<>>>><<<>>><<>>>><<>>>><>><<<>>>><>>>><<>>><<><<<><<<<><<<<><>>>><>>><<<>>>><<<<>>>><<<<>>><<>>>><>><>><<>><>>>><<<><<<<><<>>><<><<>>><<<<><<<>>><<<<>>><<>><<><<<>>>><>>>><>>><>>>><<<>>>><<<><<>><><>><>>><<<>>>><<>><<<><<<<><<>>>><<><>>>><<><>>>><<><><<<<>>><><<>><<<><>><>><<>>><<<>>>><><<>>>><<<<><<<<>>><>>>><<<<>><<<<>>>><<<>>><<>>>><><<<<>><<<<><<<<><<>><><<<>>><<<<>>><<<>><<<<>>>><<<>>><<<<>>>><>>><<<>><<<<>>><<<<><<<>><<<>>><<<>>>><<>>>><><<<>>>><<<>>><<>>>><><<>>><<<<>>>><><<><<<<>>>><<>><<<<>><<>><<<<><<<>><<<<>>><>>>><<<>><<<>>>><<<>><>><<<>><>><>><<<><<<<>>>><>>><<<<><>>><>>>><>>><<<<>>><<<>>>><>>>><<<<>>>><>>><>>><>>>><<>>><<<<>><<<>>>><<>>><>><<<<>><<<>><<<<>>>><>>><<<<>>><<>>>><>>>><<<>>>><<<>><<<<>><<<>><<<>><<<<>><<<<>><>><<<<>>><<<>><<<><<<<>><<<<>>>><>><>>><<<<><<<>>>><<>>><<<<>><<<>>>><<>>><>>>><<>>><<<<><<>>><<<<>>>><>>>><><<<>>><<<>><<>>>><<<>>><<<<>><<<>>>><><>>>><<<<>><<<<>>>><<<>>>><>>>><<<<>>>><<<<>>><<>>><<<><<<>><<<<><<<>>>><>>>><>>>><<<<>>>><<<><<>><<<<><>>><<>>><<<>>>><<<<>>>><<>>><>><<>><<><>>>><<<><<><>>>><>>><>>><<<><<<>><>>><<<<>>><<<>>><<>><<>><<<>>>><<>>>><>><<><<<<>>><<<>><<<<>><>><<<>>><>><><<>>>><<<><<><<>>>><<><<<><><<<<>><<>><<<<>>>><>>><<<>><<<<>><<<<>><<<<>>><<<<>>>><<<<>>><>>><<><<>>>><<>>><>>>><<<><<>><>>>><<<><<><<<<>>>><>>>><><<<><>>>><<<>>>><<<>>>><<<<><><<<<>>><<<<>>>><<>>><<<<>>>><><<<<>>><<>>><<<<>><><<<<>><>><>>>><>>>><><<>>>><<<<>><<<<>>><><<<>>>><<><>><>>><<>>>><>>><<><<<>>><><><>><>><<<><<><>>><<>>>><<>>><>><><<<<>>>><><>>><<<<>>>><<><<><<<<>><<><>>>><<><>>><<>><>><<<><<<<>>>><<<><>>><<<>>>><<<<>><>>><<>><<<>><<<<>>>><>>><<<<>>><<<>><<<>>><<<>>><<>>><<<><<<<>>>><<<>>><<<<>>><>><<><<<><<<>>>><<<<>>>><<<<>>><<<><<<><<<><<<>>>><<><<><<>><><<<<>>><<<>>>><<<>><><<<><<<<>>><<>><>>><<><>>><<<><>>><>>><<<<><<>>><>>>><>>>><<<<>>>><>>><<><<<>><<<>><>>><>><<<>>><<<>>><<<>>>><<<<><<><<<>>>><><<<<>><<><<><<<<>>>><<<>><<<>>>><<><<<>>><<><<<<>>>><<<>>><>>><>>><<<>>><<<<>>>><<<<>>><><<>><<>><<<<>>>><>><<<>>>><<><<>><<>><>><<<>>>><<><<<>><<<<><<<<><<<<><<<><>><>><>>><<<<><<<<>>>><<><<>><<<<>>><<<><>>>><<<>>>><<><>>>><<>>>><<<>>>><>><<><<>>><<<>>><<><<<>>><>>>><<<><<><<<><<>>><><<<>>><<><>><><<>>>><<<<>>>><<<><<<<><<<<>>><>><<>><<<<>><>>><<<>><>>>><<><><<<<>>>><<>>><<>>>><<>>>><<<>>><<>><<>><<<>><>>><<><<<><<<><<<<>>>><<>>><<<><<>><<<>><><<<>>>><<>><<<>>><<<<>>>><<<><<<<>>>><><<<<><<>>><<>><<<>>>><<>><><><<<<>>>><>>>><<>>><<<><<<>><<<>>>><<<>>>><>>><<<<><>>>><<>><>>>><<<<><<<<>><<<>><><<<>>>><<<<>>>><>><<<>>>><>>>><<<>><>>>><<>><<<>>>><>><<>>>><<<<>>><>>><>>><<<>>><>>>><<>>>><<>>>><<<>>><<<<>>><<<><<<><>>><<<<><<<>>>><><<<<>>><<><<<<><<><<<>>><<<<>>><<<<><<>>><<<>>>><<<>><>><>>>><<>>><<<><<<>>>><<><<>><<<<>>><<>><<<><<>>>><<>>><>><><<<><<<>>>><>>>><<>>><<<<><<<>>><<<<>>>><<<<><><>><>>><<>><>>><<><>>><<><>>>><<<<>>><<>><<>>>><<<>>>><<<>><<<<>><>>>><<>>>><><<>>><><<><>>>><<<<>><<<>><>>>><>>><>>><>>>><><>><<<>><>><<>>>><<>>>><>>><<>><><<>><>><<<><<<>>>><<<<>>><<<><><<<<>>>><>>><<<<>><<<>>><>>>><<>><<<>>>><<><<<<>>>><<><<>>>><>>><>><<>>>><<><<>>>><<<<><<<<>>>><>>><<<<>>>><>>>><<<>>>><<<<>>><<>><<<>>><<<<>>><<>>><<<<><>>><<<<>>>><<<><<<>>>><<<>><><>>><>>>><>><<<<>><>>>><<>>><<<<>><>>><<>>><<<>><<<<>>>><<<>>>><<>>>><<><<<>>>><<<>><<>>><<<<>><<>>>><>>><<>>>><<<<><<>>>><<<<><<>>>><<<<>>><>>>><>>>><<<>>>><<<>>><<<<>>><<<><<<<>><<><>>><>><><>>><<<<>>>><<>><<>><<<<>>><<<><>><<<><<<<>>>><<<<>>>><<<>><<<>><<<>><<<<>>><<<<>>>><<<<>>>><<<<>><<>>><>>>><<<<><<<>><<<>><><<>>>><<<<>><<>><<>>>><><<><>>><<<><<<><<>><>>><<<<><<<>><<<>>><><<<>><<>>><<<>>><<<<>>><<><<<<>>>><<<>>><>>>><<>>>><>><>><<><<<<>>><<<<>><<>><<>>>><<<<>>>><<>>>><<><>>>><<>>>><<<>><<>>>><<>>><<<>><<>>>><<<>><>><<>><<<<>>>><<<><<>><<<<><><<<><<>>><<<>>>><<<<>>><<>>><>><<><>>>><>>>><>>>><<<<>>>><<<>>><<>>>><<<<>>>><>><<<<>>><<<<>>>><>><<><>>>><<<<><>><<>><<>>>><<<<>>><<<>>><<<>>><>>>><>><<<<>><<<>>>><>>><<<>>><<<>><>>>><>>><<>><<<<><>><<<><<<>><<<>><<<<>>><<<<>>><<>>><<<<>>><<<<>><>>><<>><<>>>><>>><<<<>>><<<<><<<>>>><<<>>>><>>>><<>><<>><<>>><>>><>>><<<>>>><<<><>>><>><<<>><<<<>><<<<>>>><<<>>><>><<<<>>>><<<<>>>><<>>>><<>>><>><<<>>><<<<>>>><>>><<<<><<>><<>><<<<>>><<<<>>>><>>>><><<<<><><<<<>>>><>>><<><<<>><<>><<>>>><>>>><<<>><>><<><<<>>>><>>><><<>>>><<<<>>><<<<>>><>>>><<<<>><<<>>><<<><<<>><<><<<>>>><<<<>>><<<>>><<<>>><>>><>><<>>>><<>>><<>>>><<>>>><><<<>>><>><<>><<>>>><<<><<>><<<<>><<><>><<<<><>>><<>><>>'''\n",
    "jetseq = puzzle\n",
    "\n",
    "rocks = []\n",
    "rocks.append(np.array([[0, 0, 1, 1, 1, 1, 0]]))\n",
    "rocks.append(np.array([[0, 0, 0, 1, 0, 0, 0], [0, 0, 1, 1, 1, 0, 0], [0, 0, 0, 1, 0, 0, 0]]))\n",
    "rocks.append(np.array([[0, 0, 0, 0, 1, 0, 0], [0, 0, 0, 0, 1, 0, 0], [0, 0, 1, 1, 1, 0, 0]]))\n",
    "rocks.append(np.array([[0, 0, 1, 0, 0, 0, 0], [0, 0, 1, 0, 0, 0, 0], [0, 0, 1, 0, 0, 0, 0], [0, 0, 1, 0, 0, 0, 0]]))\n",
    "rocks.append(np.array([[0, 0, 1, 1, 0, 0, 0], [0, 0, 1, 1, 0, 0, 0]]))\n",
    "\n",
    "spacer = np.array([[0 for i in range(7)] for j in range(3)])\n",
    "tower = np.array([[2, 2, 2, 2, 2, 2, 2]])\n",
    "\n",
    "rocknum = 1\n",
    "while rocknum <= total_rocks:\n",
    "    rocktype = (rocknum - 1) % 5\n",
    "    rock = rocks[rocktype]\n",
    "    tower = np.vstack((rock, spacer, tower))\n",
    "    section_height = len(rock[:,0]) + 4\n",
    "    rest = False    \n",
    "    while not rest:\n",
    "        section = tower[0:section_height, :]\n",
    "        jet, jetseq = gas_jet(jetseq)\n",
    "        if jet == '<':\n",
    "            section = moveleft(section)\n",
    "        else:\n",
    "            section = moveright(section)                \n",
    "        rest, section = settle(section)\n",
    "        tower[0:section_height, :] = section\n",
    "        section_height += 1\n",
    "    tower = trim_top(tower)\n",
    "    rocknum += 1\n",
    "\n",
    "print('Tower height:', len(tower) - 1)    # don't count the floor"
   ]
  },
  {
   "cell_type": "raw",
   "id": "22d152bd",
   "metadata": {},
   "source": [
    "draw_tower(tower)"
   ]
  },
  {
   "cell_type": "markdown",
   "id": "4e5870fd",
   "metadata": {},
   "source": [
    "## Part 2\n",
    "\n",
    "Now the elephants want me to simulate one trillion rocks. That's too long for an iterative approach. The rock shapes are a repeating pattern, and so are the jets. There's probably a repeating pattern in the pile, too."
   ]
  },
  {
   "cell_type": "markdown",
   "id": "630d840c",
   "metadata": {},
   "source": [
    "I found, by staring at and coloring the stack in Excel, that after the first 15 rocks in the example, which stack a height of 25 rows, a repeating pattern in the tower appears. The repeating pattern is 53 layers tall and contains 35 rocks.\n",
    "\n",
    "The jet sequence in the puzzle input has length 10091, compared to the example sequence of length 17. I need a better way to look for a pattern.\n",
    "\n",
    "What if we tracked tower height vs. rocks dropped? \n"
   ]
  },
  {
   "cell_type": "code",
   "execution_count": 39,
   "id": "19c25d70",
   "metadata": {},
   "outputs": [
    {
     "data": {
      "text/html": [
       "<div>\n",
       "<style scoped>\n",
       "    .dataframe tbody tr th:only-of-type {\n",
       "        vertical-align: middle;\n",
       "    }\n",
       "\n",
       "    .dataframe tbody tr th {\n",
       "        vertical-align: top;\n",
       "    }\n",
       "\n",
       "    .dataframe thead th {\n",
       "        text-align: right;\n",
       "    }\n",
       "</style>\n",
       "<table border=\"1\" class=\"dataframe\">\n",
       "  <thead>\n",
       "    <tr style=\"text-align: right;\">\n",
       "      <th></th>\n",
       "      <th>rocks</th>\n",
       "      <th>height</th>\n",
       "    </tr>\n",
       "  </thead>\n",
       "  <tbody>\n",
       "    <tr>\n",
       "      <th>0</th>\n",
       "      <td>0</td>\n",
       "      <td>0</td>\n",
       "    </tr>\n",
       "    <tr>\n",
       "      <th>1</th>\n",
       "      <td>1</td>\n",
       "      <td>1</td>\n",
       "    </tr>\n",
       "    <tr>\n",
       "      <th>2</th>\n",
       "      <td>2</td>\n",
       "      <td>3</td>\n",
       "    </tr>\n",
       "    <tr>\n",
       "      <th>3</th>\n",
       "      <td>3</td>\n",
       "      <td>6</td>\n",
       "    </tr>\n",
       "    <tr>\n",
       "      <th>4</th>\n",
       "      <td>4</td>\n",
       "      <td>10</td>\n",
       "    </tr>\n",
       "    <tr>\n",
       "      <th>...</th>\n",
       "      <td>...</td>\n",
       "      <td>...</td>\n",
       "    </tr>\n",
       "    <tr>\n",
       "      <th>49996</th>\n",
       "      <td>49996</td>\n",
       "      <td>78309</td>\n",
       "    </tr>\n",
       "    <tr>\n",
       "      <th>49997</th>\n",
       "      <td>49997</td>\n",
       "      <td>78312</td>\n",
       "    </tr>\n",
       "    <tr>\n",
       "      <th>49998</th>\n",
       "      <td>49998</td>\n",
       "      <td>78314</td>\n",
       "    </tr>\n",
       "    <tr>\n",
       "      <th>49999</th>\n",
       "      <td>49999</td>\n",
       "      <td>78316</td>\n",
       "    </tr>\n",
       "    <tr>\n",
       "      <th>50000</th>\n",
       "      <td>50000</td>\n",
       "      <td>78318</td>\n",
       "    </tr>\n",
       "  </tbody>\n",
       "</table>\n",
       "<p>50001 rows × 2 columns</p>\n",
       "</div>"
      ],
      "text/plain": [
       "       rocks  height\n",
       "0          0       0\n",
       "1          1       1\n",
       "2          2       3\n",
       "3          3       6\n",
       "4          4      10\n",
       "...      ...     ...\n",
       "49996  49996   78309\n",
       "49997  49997   78312\n",
       "49998  49998   78314\n",
       "49999  49999   78316\n",
       "50000  50000   78318\n",
       "\n",
       "[50001 rows x 2 columns]"
      ]
     },
     "execution_count": 39,
     "metadata": {},
     "output_type": "execute_result"
    }
   ],
   "source": [
    "total_rocks = 50000\n",
    "rocks_dropped = [0]\n",
    "tower_height = [0]\n",
    "\n",
    "tower = np.array([[2, 2, 2, 2, 2, 2, 2]])\n",
    "jetseq = puzzle\n",
    "rocknum = 1\n",
    "\n",
    "while rocknum <= total_rocks:\n",
    "    rocktype = (rocknum - 1) % 5\n",
    "    rock = rocks[rocktype]\n",
    "    tower = np.vstack((rock, spacer, tower))\n",
    "    section_height = len(rock[:,0]) + 4\n",
    "    rest = False\n",
    "    \n",
    "    while not rest:        \n",
    "        section = tower[0:section_height, :]\n",
    "        jet, jetseq = gas_jet(jetseq)\n",
    "        if jet == '<':\n",
    "            section = moveleft(section)\n",
    "        else:\n",
    "            section = moveright(section)                \n",
    "        rest, section = settle(section)\n",
    "        tower[0:section_height, :] = section\n",
    "        section_height += 1\n",
    "    tower = trim_top(tower)\n",
    "            \n",
    "    rocks_dropped.append(rocknum)\n",
    "    tower_height.append(len(tower) - 1)\n",
    "            \n",
    "    rocknum += 1\n",
    "\n",
    "dic = {'rocks': rocks_dropped, 'height': tower_height}\n",
    "df = pd.DataFrame(dic)\n",
    "df\n"
   ]
  },
  {
   "cell_type": "markdown",
   "id": "c8b81bae",
   "metadata": {},
   "source": [
    "Now let's just check for periodicity by brute force, since I'm not understanding how to do this with Fourier transform at the moment."
   ]
  },
  {
   "cell_type": "code",
   "execution_count": 43,
   "id": "3857b6c7",
   "metadata": {},
   "outputs": [],
   "source": [
    "table = []\n",
    "for n in range(5000):\n",
    "    row = []\n",
    "    for m in range (1, 10):\n",
    "        row.append(df.height[n*m] - df.height[n*(m-1)])\n",
    "    table.append(row)\n",
    "        \n",
    "npdata = np.array(table)"
   ]
  },
  {
   "cell_type": "code",
   "execution_count": 44,
   "id": "8336820a",
   "metadata": {},
   "outputs": [
    {
     "name": "stdout",
     "output_type": "stream",
     "text": [
      "[[   0    0    0 ...    0    0    0]\n",
      " [   1    2    3 ...    2    3    2]\n",
      " [   3    7    3 ...    6    3    5]\n",
      " ...\n",
      " [7819 7833 7819 ... 7821 7839 7807]\n",
      " [7822 7832 7822 ... 7821 7850 7802]\n",
      " [7823 7836 7822 ... 7821 7841 7807]]\n"
     ]
    }
   ],
   "source": [
    "print(np.array(table))"
   ]
  },
  {
   "cell_type": "code",
   "execution_count": 45,
   "id": "1a101510",
   "metadata": {},
   "outputs": [],
   "source": [
    "np.savetxt('data.csv', npdata, delimiter=',')"
   ]
  },
  {
   "cell_type": "markdown",
   "id": "725f25cc",
   "metadata": {},
   "source": [
    "Aha! There's a repeating pattern in the height for every 1725 rocks. The first 1725 rocks give a height of 2699, and thereafter each 1725 rocks add a height of 2702 units."
   ]
  },
  {
   "attachments": {
    "image.png": {
     "image/png": "[encoded data removed]"
    }
   },
   "cell_type": "markdown",
   "id": "f6acfaf2",
   "metadata": {},
   "source": [
    "![image.png](attachment:image.png)"
   ]
  },
  {
   "cell_type": "code",
   "execution_count": 46,
   "id": "3905ac61",
   "metadata": {},
   "outputs": [
    {
     "data": {
      "text/plain": [
       "579710144.9275362"
      ]
     },
     "execution_count": 46,
     "metadata": {},
     "output_type": "execute_result"
    }
   ],
   "source": [
    "1000000000000/1725"
   ]
  },
  {
   "cell_type": "code",
   "execution_count": 48,
   "id": "8fa94fb1",
   "metadata": {},
   "outputs": [
    {
     "data": {
      "text/plain": [
       "1600"
      ]
     },
     "execution_count": 48,
     "metadata": {},
     "output_type": "execute_result"
    }
   ],
   "source": [
    "1000000000000 % 1725"
   ]
  },
  {
   "cell_type": "markdown",
   "id": "c42834b2",
   "metadata": {},
   "source": [
    "at 1725 + 1600 = 3325 rocks, the height is 5198\n",
    "\n",
    "5198 - 2699 = 2499\n",
    "\n",
    "So... let's try...\n",
    "\n",
    "Height of 2699 for the first 1725 rocks. Then 2702 * 579710143 groups of 1725 rocks. Then 2499 for the last 1600 rocks."
   ]
  },
  {
   "cell_type": "code",
   "execution_count": 57,
   "id": "535830ec",
   "metadata": {},
   "outputs": [
    {
     "data": {
      "text/plain": [
       "1566376811584"
      ]
     },
     "execution_count": 57,
     "metadata": {},
     "output_type": "execute_result"
    }
   ],
   "source": [
    "2699 + 579710143 * 2702 + 2499"
   ]
  },
  {
   "cell_type": "markdown",
   "id": "d78d2726",
   "metadata": {},
   "source": [
    "It's right! Yayyyyyy!!!!"
   ]
  },
  {
   "cell_type": "code",
   "execution_count": null,
   "id": "955a8086",
   "metadata": {},
   "outputs": [],
   "source": []
  }
 ],
 "metadata": {
  "kernelspec": {
   "display_name": "Python 3 (ipykernel)",
   "language": "python",
   "name": "python3"
  },
  "language_info": {
   "codemirror_mode": {
    "name": "ipython",
    "version": 3
   },
   "file_extension": ".py",
   "mimetype": "text/x-python",
   "name": "python",
   "nbconvert_exporter": "python",
   "pygments_lexer": "ipython3",
   "version": "3.9.6"
  }
 },
 "nbformat": 4,
 "nbformat_minor": 5
}
