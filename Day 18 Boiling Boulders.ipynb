{
 "cells": [
  {
   "cell_type": "markdown",
   "id": "c77e9587",
   "metadata": {},
   "source": [
    "# Day 18: Boiling Boulders\n",
    "\n",
    "The scan approximates the shape of the lava droplet with 1x1x1 cubes on a 3D grid, each given as its x,y,z position. To approximate the surface area, count the number of sides of each cube that are not immediately connected to another cube. So, if your scan were only two adjacent cubes like 1,1,1 and 2,1,1, each cube would have a single side covered and five sides exposed, a total surface area of 10 sides.\n"
   ]
  },
  {
   "cell_type": "code",
   "execution_count": 1,
   "id": "d839bf89",
   "metadata": {},
   "outputs": [],
   "source": [
    "example = True\n",
    "\n",
    "if example:\n",
    "    puzzle = '''2,2,2\n",
    "1,2,2\n",
    "3,2,2\n",
    "2,1,2\n",
    "2,3,2\n",
    "2,2,1\n",
    "2,2,3\n",
    "2,2,4\n",
    "2,2,6\n",
    "1,2,5\n",
    "3,2,5\n",
    "2,1,5\n",
    "2,3,5'''\n",
    "    \n",
    "else:\n",
    "    with open('data/obsidian.txt', 'r') as f:\n",
    "        puzzle = f.read()    "
   ]
  },
  {
   "cell_type": "markdown",
   "id": "48d70243",
   "metadata": {},
   "source": [
    "### Strategy (part 1)\n",
    "If we hold one dimension constant, we're looking at a plane. If we hold 2 dimensions constant, we're looking at all the blocks in a row (along any axis). \n",
    "\n",
    "For any number of blocks that are stuck together, in the row under consideration there are only the faces at the ends. If there are any gaps in the row, two additional faces appear for each gap.\n",
    "\n",
    "We'll organize the coordinates in a dataframe so we can use the groupby method (split, apply, combine) to select rows of blocks. We will write a custom aggregation function to count the exposed faces in each of those rows."
   ]
  },
  {
   "cell_type": "code",
   "execution_count": 2,
   "id": "659e496b",
   "metadata": {},
   "outputs": [
    {
     "data": {
      "text/html": [
       "<div>\n",
       "<style scoped>\n",
       "    .dataframe tbody tr th:only-of-type {\n",
       "        vertical-align: middle;\n",
       "    }\n",
       "\n",
       "    .dataframe tbody tr th {\n",
       "        vertical-align: top;\n",
       "    }\n",
       "\n",
       "    .dataframe thead th {\n",
       "        text-align: right;\n",
       "    }\n",
       "</style>\n",
       "<table border=\"1\" class=\"dataframe\">\n",
       "  <thead>\n",
       "    <tr style=\"text-align: right;\">\n",
       "      <th></th>\n",
       "      <th>x</th>\n",
       "      <th>y</th>\n",
       "      <th>z</th>\n",
       "    </tr>\n",
       "  </thead>\n",
       "  <tbody>\n",
       "    <tr>\n",
       "      <th>1</th>\n",
       "      <td>1</td>\n",
       "      <td>2</td>\n",
       "      <td>2</td>\n",
       "    </tr>\n",
       "    <tr>\n",
       "      <th>9</th>\n",
       "      <td>1</td>\n",
       "      <td>2</td>\n",
       "      <td>5</td>\n",
       "    </tr>\n",
       "    <tr>\n",
       "      <th>3</th>\n",
       "      <td>2</td>\n",
       "      <td>1</td>\n",
       "      <td>2</td>\n",
       "    </tr>\n",
       "    <tr>\n",
       "      <th>11</th>\n",
       "      <td>2</td>\n",
       "      <td>1</td>\n",
       "      <td>5</td>\n",
       "    </tr>\n",
       "    <tr>\n",
       "      <th>5</th>\n",
       "      <td>2</td>\n",
       "      <td>2</td>\n",
       "      <td>1</td>\n",
       "    </tr>\n",
       "    <tr>\n",
       "      <th>0</th>\n",
       "      <td>2</td>\n",
       "      <td>2</td>\n",
       "      <td>2</td>\n",
       "    </tr>\n",
       "    <tr>\n",
       "      <th>6</th>\n",
       "      <td>2</td>\n",
       "      <td>2</td>\n",
       "      <td>3</td>\n",
       "    </tr>\n",
       "    <tr>\n",
       "      <th>7</th>\n",
       "      <td>2</td>\n",
       "      <td>2</td>\n",
       "      <td>4</td>\n",
       "    </tr>\n",
       "    <tr>\n",
       "      <th>8</th>\n",
       "      <td>2</td>\n",
       "      <td>2</td>\n",
       "      <td>6</td>\n",
       "    </tr>\n",
       "    <tr>\n",
       "      <th>4</th>\n",
       "      <td>2</td>\n",
       "      <td>3</td>\n",
       "      <td>2</td>\n",
       "    </tr>\n",
       "    <tr>\n",
       "      <th>12</th>\n",
       "      <td>2</td>\n",
       "      <td>3</td>\n",
       "      <td>5</td>\n",
       "    </tr>\n",
       "    <tr>\n",
       "      <th>2</th>\n",
       "      <td>3</td>\n",
       "      <td>2</td>\n",
       "      <td>2</td>\n",
       "    </tr>\n",
       "    <tr>\n",
       "      <th>10</th>\n",
       "      <td>3</td>\n",
       "      <td>2</td>\n",
       "      <td>5</td>\n",
       "    </tr>\n",
       "  </tbody>\n",
       "</table>\n",
       "</div>"
      ],
      "text/plain": [
       "    x  y  z\n",
       "1   1  2  2\n",
       "9   1  2  5\n",
       "3   2  1  2\n",
       "11  2  1  5\n",
       "5   2  2  1\n",
       "0   2  2  2\n",
       "6   2  2  3\n",
       "7   2  2  4\n",
       "8   2  2  6\n",
       "4   2  3  2\n",
       "12  2  3  5\n",
       "2   3  2  2\n",
       "10  3  2  5"
      ]
     },
     "execution_count": 2,
     "metadata": {},
     "output_type": "execute_result"
    }
   ],
   "source": [
    "import pandas as pd\n",
    "\n",
    "cubes = []\n",
    "for string in puzzle.split('\\n'):\n",
    "    coord = string.split(',')\n",
    "    cube = (int(coord[0]), int(coord[1]), int(coord[2]))\n",
    "    cubes.append(cube)\n",
    "    \n",
    "cubes = pd.DataFrame(cubes, columns = ['x', 'y', 'z'])\n",
    "cubes = cubes.sort_values(by=['x', 'y', 'z'])\n",
    "\n",
    "cubes"
   ]
  },
  {
   "cell_type": "code",
   "execution_count": 3,
   "id": "a5d58c28",
   "metadata": {},
   "outputs": [
    {
     "data": {
      "text/plain": [
       "array([64])"
      ]
     },
     "execution_count": 3,
     "metadata": {},
     "output_type": "execute_result"
    }
   ],
   "source": [
    "def count_edges(cubes, axis):\n",
    "    integers = cubes[[axis]].values\n",
    "    spaces = []\n",
    "    for p in range(1, len(integers)):\n",
    "        spaces.append((integers[p] - integers[p-1]) > 1)\n",
    "    edges = 2 + 2*sum(spaces)\n",
    "    return edges\n",
    "\n",
    "x = sum(cubes.groupby(by=['y','z']).apply(count_edges, 'x'))\n",
    "y = sum(cubes.groupby(by=['x','z']).apply(count_edges, 'y'))\n",
    "z = sum(cubes.groupby(by=['x','y']).apply(count_edges, 'z'))\n",
    "\n",
    "x + y + z"
   ]
  },
  {
   "cell_type": "markdown",
   "id": "bcbee459",
   "metadata": {},
   "source": [
    "## Part 2\n",
    "\n",
    "Count the exterior faces only."
   ]
  },
  {
   "cell_type": "code",
   "execution_count": 4,
   "id": "b904b329",
   "metadata": {},
   "outputs": [
    {
     "data": {
      "text/plain": [
       "50"
      ]
     },
     "execution_count": 4,
     "metadata": {},
     "output_type": "execute_result"
    }
   ],
   "source": [
    "def count_edges(cubes, axis):\n",
    "    edges = 2\n",
    "    return edges\n",
    "\n",
    "x = sum(cubes.groupby(by=['y','z']).apply(count_edges, 'x'))\n",
    "y = sum(cubes.groupby(by=['x','z']).apply(count_edges, 'y'))\n",
    "z = sum(cubes.groupby(by=['x','y']).apply(count_edges, 'z'))\n",
    "\n",
    "x + y + z"
   ]
  },
  {
   "cell_type": "markdown",
   "id": "c9d7024f",
   "metadata": {},
   "source": [
    "That's not right... need to consider whether each face is in a complete internal bubble, or not. The shape of the bubble could be pretty elaborate..."
   ]
  },
  {
   "cell_type": "code",
   "execution_count": null,
   "id": "16a40784",
   "metadata": {},
   "outputs": [],
   "source": []
  }
 ],
 "metadata": {
  "kernelspec": {
   "display_name": "Python 3 (ipykernel)",
   "language": "python",
   "name": "python3"
  },
  "language_info": {
   "codemirror_mode": {
    "name": "ipython",
    "version": 3
   },
   "file_extension": ".py",
   "mimetype": "text/x-python",
   "name": "python",
   "nbconvert_exporter": "python",
   "pygments_lexer": "ipython3",
   "version": "3.9.6"
  }
 },
 "nbformat": 4,
 "nbformat_minor": 5
}
