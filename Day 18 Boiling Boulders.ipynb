{
 "cells": [
  {
   "cell_type": "markdown",
   "id": "2337cf4b",
   "metadata": {},
   "source": [
    "# Day 18: Boiling Boulders\n",
    "\n",
    "The scan approximates the shape of the lava droplet with 1x1x1 cubes on a 3D grid, each given as its x,y,z position. To approximate the surface area, count the number of sides of each cube that are not immediately connected to another cube. So, if your scan were only two adjacent cubes like 1,1,1 and 2,1,1, each cube would have a single side covered and five sides exposed, a total surface area of 10 sides.\n"
   ]
  },
  {
   "cell_type": "code",
   "execution_count": 1,
   "id": "a0d86c2e",
   "metadata": {},
   "outputs": [],
   "source": [
    "example = False\n",
    "\n",
    "if example:\n",
    "    puzzle = '''2,2,2\n",
    "1,2,2\n",
    "3,2,2\n",
    "2,1,2\n",
    "2,3,2\n",
    "2,2,1\n",
    "2,2,3\n",
    "2,2,4\n",
    "2,2,6\n",
    "1,2,5\n",
    "3,2,5\n",
    "2,1,5\n",
    "2,3,5'''\n",
    "    \n",
    "else:\n",
    "    with open('data/obsidian.txt', 'r') as f:\n",
    "        puzzle = f.read()    "
   ]
  },
  {
   "cell_type": "markdown",
   "id": "9413f0df",
   "metadata": {},
   "source": [
    "### Strategy (part 1)\n",
    "If we hold one dimension constant, we're looking at a plane. If we hold 2 dimensions constant, we're looking at all the blocks in a row (along any axis). \n",
    "\n",
    "For any number of blocks that are stuck together, in the row under consideration there are only the faces at the ends. If there are any gaps in the row, two additional faces appear for each gap.\n",
    "\n",
    "We'll organize the coordinates in a dataframe so we can use the groupby method (split, apply, combine) to select rows of blocks. We will write a custom aggregation function to count the exposed faces in each of those rows."
   ]
  },
  {
   "cell_type": "code",
   "execution_count": 2,
   "id": "5d839954",
   "metadata": {},
   "outputs": [],
   "source": [
    "import pandas as pd\n",
    "import numpy as np"
   ]
  },
  {
   "cell_type": "code",
   "execution_count": 3,
   "id": "075fcb8e",
   "metadata": {},
   "outputs": [
    {
     "data": {
      "text/html": [
       "<div>\n",
       "<style scoped>\n",
       "    .dataframe tbody tr th:only-of-type {\n",
       "        vertical-align: middle;\n",
       "    }\n",
       "\n",
       "    .dataframe tbody tr th {\n",
       "        vertical-align: top;\n",
       "    }\n",
       "\n",
       "    .dataframe thead th {\n",
       "        text-align: right;\n",
       "    }\n",
       "</style>\n",
       "<table border=\"1\" class=\"dataframe\">\n",
       "  <thead>\n",
       "    <tr style=\"text-align: right;\">\n",
       "      <th></th>\n",
       "      <th>x</th>\n",
       "      <th>y</th>\n",
       "      <th>z</th>\n",
       "    </tr>\n",
       "  </thead>\n",
       "  <tbody>\n",
       "    <tr>\n",
       "      <th>2608</th>\n",
       "      <td>0</td>\n",
       "      <td>10</td>\n",
       "      <td>11</td>\n",
       "    </tr>\n",
       "    <tr>\n",
       "      <th>2010</th>\n",
       "      <td>0</td>\n",
       "      <td>12</td>\n",
       "      <td>12</td>\n",
       "    </tr>\n",
       "    <tr>\n",
       "      <th>1303</th>\n",
       "      <td>1</td>\n",
       "      <td>6</td>\n",
       "      <td>9</td>\n",
       "    </tr>\n",
       "    <tr>\n",
       "      <th>1577</th>\n",
       "      <td>1</td>\n",
       "      <td>7</td>\n",
       "      <td>8</td>\n",
       "    </tr>\n",
       "    <tr>\n",
       "      <th>1712</th>\n",
       "      <td>1</td>\n",
       "      <td>7</td>\n",
       "      <td>9</td>\n",
       "    </tr>\n",
       "    <tr>\n",
       "      <th>...</th>\n",
       "      <td>...</td>\n",
       "      <td>...</td>\n",
       "      <td>...</td>\n",
       "    </tr>\n",
       "    <tr>\n",
       "      <th>2623</th>\n",
       "      <td>20</td>\n",
       "      <td>13</td>\n",
       "      <td>14</td>\n",
       "    </tr>\n",
       "    <tr>\n",
       "      <th>589</th>\n",
       "      <td>20</td>\n",
       "      <td>14</td>\n",
       "      <td>11</td>\n",
       "    </tr>\n",
       "    <tr>\n",
       "      <th>1828</th>\n",
       "      <td>20</td>\n",
       "      <td>14</td>\n",
       "      <td>12</td>\n",
       "    </tr>\n",
       "    <tr>\n",
       "      <th>1531</th>\n",
       "      <td>20</td>\n",
       "      <td>15</td>\n",
       "      <td>9</td>\n",
       "    </tr>\n",
       "    <tr>\n",
       "      <th>2572</th>\n",
       "      <td>21</td>\n",
       "      <td>12</td>\n",
       "      <td>11</td>\n",
       "    </tr>\n",
       "  </tbody>\n",
       "</table>\n",
       "<p>2881 rows × 3 columns</p>\n",
       "</div>"
      ],
      "text/plain": [
       "       x   y   z\n",
       "2608   0  10  11\n",
       "2010   0  12  12\n",
       "1303   1   6   9\n",
       "1577   1   7   8\n",
       "1712   1   7   9\n",
       "...   ..  ..  ..\n",
       "2623  20  13  14\n",
       "589   20  14  11\n",
       "1828  20  14  12\n",
       "1531  20  15   9\n",
       "2572  21  12  11\n",
       "\n",
       "[2881 rows x 3 columns]"
      ]
     },
     "execution_count": 3,
     "metadata": {},
     "output_type": "execute_result"
    }
   ],
   "source": [
    "cubes = []\n",
    "for string in puzzle.split('\\n'):\n",
    "    coord = string.split(',')\n",
    "    cube = (int(coord[0]), int(coord[1]), int(coord[2]))\n",
    "    cubes.append(cube)\n",
    "    \n",
    "cubes = pd.DataFrame(cubes, columns = ['x', 'y', 'z'])\n",
    "cubes = cubes.sort_values(by=['x', 'y', 'z'])\n",
    "\n",
    "cubes"
   ]
  },
  {
   "cell_type": "code",
   "execution_count": 4,
   "id": "f176d2d7",
   "metadata": {},
   "outputs": [
    {
     "data": {
      "text/plain": [
       "array([4308])"
      ]
     },
     "execution_count": 4,
     "metadata": {},
     "output_type": "execute_result"
    }
   ],
   "source": [
    "def count_edges(cubes, axis):\n",
    "    integers = cubes[[axis]].values\n",
    "    spaces = []\n",
    "    for p in range(1, len(integers)):\n",
    "        spaces.append((integers[p] - integers[p-1]) > 1)\n",
    "    edges = 2 + 2*sum(spaces)\n",
    "    return edges\n",
    "\n",
    "x = sum(cubes.groupby(by=['y','z']).apply(count_edges, 'x'))\n",
    "y = sum(cubes.groupby(by=['x','z']).apply(count_edges, 'y'))\n",
    "z = sum(cubes.groupby(by=['x','y']).apply(count_edges, 'z'))\n",
    "\n",
    "total_surface_area = x + y + z\n",
    "total_surface_area"
   ]
  },
  {
   "cell_type": "markdown",
   "id": "b6a2820b",
   "metadata": {},
   "source": [
    "## Part 2\n",
    "\n",
    "Count the exterior faces only. The air pockets trapped within the rock don't contribute much to the cooling.\n",
    "\n",
    "There are three types of cubes. The outside (water/steam), the lava, and the interior air spaces. It's easy to visualize the difference between the outside and a trapped air pocket in 2 dimensions, but it gets a lot more complicated in 3.\n",
    "\n",
    "I decided to use graph analysis to distinguish interior pockets from the outside air. First, define a 3D coordinate space large enough to hold my puzzle input."
   ]
  },
  {
   "cell_type": "code",
   "execution_count": 5,
   "id": "ea352b3e",
   "metadata": {},
   "outputs": [],
   "source": [
    "if example:\n",
    "    max_d = 6\n",
    "else:\n",
    "    max_d = 21\n",
    "\n",
    "space = [[(x, y, z)] for x in range(max_d + 1) for y in range(max_d + 1) for z in range(max_d + 1)]\n",
    "space = pd.DataFrame(space, columns=['coordinates'])\n",
    "\n",
    "#space"
   ]
  },
  {
   "cell_type": "markdown",
   "id": "6f8e2bca",
   "metadata": {},
   "source": [
    "Format the puzzle input as a list of coordinates."
   ]
  },
  {
   "cell_type": "code",
   "execution_count": 6,
   "id": "2e4d60b3",
   "metadata": {},
   "outputs": [],
   "source": [
    "cube_list = []\n",
    "for string in puzzle.split('\\n'):\n",
    "    coord = string.split(',')\n",
    "    cube = (int(coord[0]), int(coord[1]), int(coord[2]))\n",
    "    cube_list.append(cube)\n",
    "\n",
    "#cube_list"
   ]
  },
  {
   "cell_type": "markdown",
   "id": "b99cc5e4",
   "metadata": {},
   "source": [
    "Place the lava droplet in the coordinate space."
   ]
  },
  {
   "cell_type": "code",
   "execution_count": 7,
   "id": "ef7b7378",
   "metadata": {},
   "outputs": [
    {
     "name": "stdout",
     "output_type": "stream",
     "text": [
      "2881\n"
     ]
    }
   ],
   "source": [
    "def lava(coord):\n",
    "    return coord in cube_list\n",
    "\n",
    "space['lava'] = space.coordinates.apply(lava)\n",
    "\n",
    "print(sum(space.lava))\n",
    "#space"
   ]
  },
  {
   "cell_type": "code",
   "execution_count": 8,
   "id": "5548396b",
   "metadata": {},
   "outputs": [],
   "source": [
    "#space.loc[space.lava,].coordinates"
   ]
  },
  {
   "cell_type": "markdown",
   "id": "40821256",
   "metadata": {},
   "source": [
    "Create connections between adjacent locations that are not lava. These will become the edges of our graph."
   ]
  },
  {
   "cell_type": "code",
   "execution_count": 9,
   "id": "88809867",
   "metadata": {},
   "outputs": [],
   "source": [
    "def plus_x(cube):\n",
    "    px = (cube[0]+1, cube[1], cube[2])\n",
    "    if cube[0] < max_d and not cube in cube_list and not px in cube_list:\n",
    "        return [(str(cube), str(px))]\n",
    "    \n",
    "    \n",
    "def plus_y(cube):\n",
    "    py = (cube[0], cube[1]+1, cube[2])\n",
    "    if cube[1] < max_d and not cube in cube_list and not py in cube_list:\n",
    "        return [(str(cube), str(py))]\n",
    "    \n",
    "    \n",
    "def plus_z(cube):\n",
    "    pz = (cube[0], cube[1], cube[2]+1)\n",
    "    if cube[2] < max_d and not cube in cube_list and not pz in cube_list:\n",
    "        return [(str(cube), str(pz))]\n",
    "    \n",
    "    \n",
    "space['plus_x'] = space.coordinates.apply(plus_x)\n",
    "space['plus_y'] = space.coordinates.apply(plus_y)\n",
    "space['plus_z'] = space.coordinates.apply(plus_z)\n",
    "#space"
   ]
  },
  {
   "cell_type": "markdown",
   "id": "db937b99",
   "metadata": {},
   "source": [
    "Build the graph."
   ]
  },
  {
   "cell_type": "code",
   "execution_count": 10,
   "id": "8c449ae9",
   "metadata": {},
   "outputs": [
    {
     "data": {
      "text/plain": [
       "<igraph.Graph at 0x18ff05a5140>"
      ]
     },
     "execution_count": 10,
     "metadata": {},
     "output_type": "execute_result"
    }
   ],
   "source": [
    "import igraph as ig\n",
    "\n",
    "g = ig.Graph()\n",
    "\n",
    "g.add_vertices(space.loc[~space.lava, 'coordinates'].astype(str).tolist())\n",
    "\n",
    "for row in space.plus_x:\n",
    "    if not row is None:\n",
    "        g.add_edges(row)\n",
    "for row in space.plus_y:\n",
    "    if not row is None:\n",
    "        g.add_edges(row)\n",
    "for row in space.plus_z:\n",
    "    if not row is None:\n",
    "        g.add_edges(row)\n",
    "    \n",
    "g.simplify()\n",
    "\n",
    "#print(g)"
   ]
  },
  {
   "cell_type": "markdown",
   "id": "32b2bbf7",
   "metadata": {},
   "source": [
    "Identify subgraphs in the empty space."
   ]
  },
  {
   "cell_type": "code",
   "execution_count": 11,
   "id": "06538850",
   "metadata": {},
   "outputs": [
    {
     "name": "stdout",
     "output_type": "stream",
     "text": [
      "Subgraph 0 6365\n",
      "Subgraph 1 1\n",
      "Subgraph 2 1\n",
      "Subgraph 3 1\n",
      "Subgraph 4 1351\n",
      "Subgraph 5 1\n",
      "Subgraph 6 1\n",
      "Subgraph 7 2\n",
      "Subgraph 8 1\n",
      "Subgraph 9 1\n",
      "Subgraph 10 2\n",
      "Subgraph 11 1\n",
      "Subgraph 12 1\n",
      "Subgraph 13 2\n",
      "Subgraph 14 1\n",
      "Subgraph 15 1\n",
      "Subgraph 16 1\n",
      "Subgraph 17 1\n",
      "Subgraph 18 1\n",
      "Subgraph 19 1\n",
      "Subgraph 20 1\n",
      "Subgraph 21 2\n",
      "Subgraph 22 1\n",
      "Subgraph 23 1\n",
      "Subgraph 24 1\n",
      "Subgraph 25 1\n",
      "Subgraph 26 1\n",
      "Subgraph 27 1\n",
      "Subgraph 28 1\n",
      "Subgraph 29 1\n",
      "Subgraph 30 1\n",
      "Subgraph 31 1\n",
      "Subgraph 32 1\n",
      "Subgraph 33 1\n",
      "Subgraph 34 1\n",
      "Subgraph 35 1\n",
      "Subgraph 36 1\n",
      "Subgraph 37 1\n",
      "Subgraph 38 1\n",
      "Subgraph 39 1\n",
      "Subgraph 40 1\n",
      "Subgraph 41 1\n",
      "Subgraph 42 1\n",
      "Subgraph 43 2\n",
      "Subgraph 44 1\n",
      "Subgraph 45 1\n",
      "Subgraph 46 1\n",
      "Subgraph 47 1\n"
     ]
    }
   ],
   "source": [
    "subgraphs = g.decompose()\n",
    "\n",
    "for i in range(len(subgraphs)):\n",
    "    print('Subgraph', i, len(subgraphs[i].vs['name']))\n",
    "    #print(subgraphs[i].vs['name'])\n",
    "    #print()"
   ]
  },
  {
   "cell_type": "markdown",
   "id": "7f43f8df",
   "metadata": {},
   "source": [
    "Subgraphs of size 1 or 2 are easy: just subtract 6 or 10 edges for each. But there's one massive subgraph that needs to be treated separately. We'll use the method of part 1 to calculate the surface area of this large pocket of trapped air."
   ]
  },
  {
   "cell_type": "code",
   "execution_count": 12,
   "id": "4e54c66b",
   "metadata": {},
   "outputs": [],
   "source": [
    "bubble = pd.DataFrame(subgraphs[4].vs['name'], columns = ['coordinates'])\n",
    "#bubble"
   ]
  },
  {
   "cell_type": "code",
   "execution_count": 13,
   "id": "df4e58b5",
   "metadata": {},
   "outputs": [],
   "source": [
    "def get_x(cstr):\n",
    "    cstr = cstr.replace('(', '')\n",
    "    cstr = cstr.replace(')', '')\n",
    "    return int(cstr.split(', ')[0])\n",
    "\n",
    "def get_y(cstr):\n",
    "    cstr = cstr.replace('(', '')\n",
    "    cstr = cstr.replace(')', '')\n",
    "    return int(cstr.split(', ')[1])\n",
    "\n",
    "def get_z(cstr):\n",
    "    cstr = cstr.replace('(', '')\n",
    "    cstr = cstr.replace(')', '')\n",
    "    return int(cstr.split(', ')[2])"
   ]
  },
  {
   "cell_type": "code",
   "execution_count": 14,
   "id": "01c5951b",
   "metadata": {},
   "outputs": [],
   "source": [
    "bubble['x'] = bubble.coordinates.apply(get_x)\n",
    "bubble['y'] = bubble.coordinates.apply(get_y)\n",
    "bubble['z'] = bubble.coordinates.apply(get_z)\n",
    "#bubble"
   ]
  },
  {
   "cell_type": "code",
   "execution_count": 15,
   "id": "21b53d49",
   "metadata": {},
   "outputs": [
    {
     "data": {
      "text/plain": [
       "array([1472])"
      ]
     },
     "execution_count": 15,
     "metadata": {},
     "output_type": "execute_result"
    }
   ],
   "source": [
    "x = sum(bubble.groupby(by=['y','z']).apply(count_edges, 'x'))\n",
    "y = sum(bubble.groupby(by=['x','z']).apply(count_edges, 'y'))\n",
    "z = sum(bubble.groupby(by=['x','y']).apply(count_edges, 'z'))\n",
    "\n",
    "bubble_surface_area = x + y + z\n",
    "bubble_surface_area"
   ]
  },
  {
   "cell_type": "markdown",
   "id": "ad5768e4",
   "metadata": {},
   "source": [
    "There are also 5 pockets of size 2 and 41 pockets of size 1."
   ]
  },
  {
   "cell_type": "code",
   "execution_count": 16,
   "id": "997acd5f",
   "metadata": {},
   "outputs": [
    {
     "data": {
      "text/plain": [
       "array([2540])"
      ]
     },
     "execution_count": 16,
     "metadata": {},
     "output_type": "execute_result"
    }
   ],
   "source": [
    "total_surface_area - (bubble_surface_area + 5 * 10 + 41 * 6)"
   ]
  },
  {
   "cell_type": "code",
   "execution_count": null,
   "id": "73bea05d",
   "metadata": {},
   "outputs": [],
   "source": []
  },
  {
   "cell_type": "code",
   "execution_count": null,
   "id": "b112da7b",
   "metadata": {},
   "outputs": [],
   "source": []
  }
 ],
 "metadata": {
  "kernelspec": {
   "display_name": "Python 3 (ipykernel)",
   "language": "python",
   "name": "python3"
  },
  "language_info": {
   "codemirror_mode": {
    "name": "ipython",
    "version": 3
   },
   "file_extension": ".py",
   "mimetype": "text/x-python",
   "name": "python",
   "nbconvert_exporter": "python",
   "pygments_lexer": "ipython3",
   "version": "3.9.6"
  }
 },
 "nbformat": 4,
 "nbformat_minor": 5
}
