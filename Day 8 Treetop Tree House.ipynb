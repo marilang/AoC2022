{
 "cells": [
  {
   "cell_type": "raw",
   "id": "85471861",
   "metadata": {},
   "source": [
    "--- Day 8: Treetop Tree House ---\n",
    "\n",
    "The expedition comes across a peculiar patch of tall trees all planted carefully in a grid. The Elves explain that a previous expedition planted these trees as a reforestation effort. Now, they're curious if this would be a good location for a tree house.\n",
    "\n",
    "First, determine whether there is enough tree cover here to keep a tree house hidden. To do this, you need to count the number of trees that are visible from outside the grid when looking directly along a row or column.\n",
    "\n",
    "The Elves have already launched a quadcopter to generate a map with the height of each tree (your puzzle input). For example:\n",
    "\n",
    "30373\n",
    "25512\n",
    "65332\n",
    "33549\n",
    "35390\n",
    "\n",
    "Each tree is represented as a single digit whose value is its height, where 0 is the shortest and 9 is the tallest.\n",
    "\n",
    "A tree is visible if all of the other trees between it and an edge of the grid are shorter than it. Only consider trees in the same row or column; that is, only look up, down, left, or right from any given tree.\n",
    "\n",
    "All of the trees around the edge of the grid are visible - since they are already on the edge, there are no trees to block the view. In this example, that only leaves the interior nine trees to consider:\n",
    "\n",
    "    The top-left 5 is visible from the left and top. (It isn't visible from the right or bottom since other trees of height 5 are in the way.)\n",
    "    The top-middle 5 is visible from the top and right.\n",
    "    The top-right 1 is not visible from any direction; for it to be visible, there would need to only be trees of height 0 between it and an edge.\n",
    "    The left-middle 5 is visible, but only from the right.\n",
    "    The center 3 is not visible from any direction; for it to be visible, there would need to be only trees of at most height 2 between it and an edge.\n",
    "    The right-middle 3 is visible from the right.\n",
    "    In the bottom row, the middle 5 is visible, but the 3 and 4 are not.\n",
    "\n",
    "With 16 trees visible on the edge and another 5 visible in the interior, a total of 21 trees are visible in this arrangement.\n",
    "\n",
    "Consider your map; how many trees are visible from outside the grid?\n",
    "\n"
   ]
  },
  {
   "cell_type": "code",
   "execution_count": 1,
   "id": "829a0ebe",
   "metadata": {},
   "outputs": [],
   "source": [
    "import numpy as np"
   ]
  },
  {
   "cell_type": "code",
   "execution_count": 2,
   "id": "6de7b608",
   "metadata": {},
   "outputs": [],
   "source": [
    "with open('day8.txt', 'r') as f:\n",
    "    data = f.readlines()"
   ]
  },
  {
   "cell_type": "raw",
   "id": "ebb6870e",
   "metadata": {},
   "source": [
    "data"
   ]
  },
  {
   "cell_type": "code",
   "execution_count": 3,
   "id": "42b08ad0",
   "metadata": {},
   "outputs": [
    {
     "data": {
      "text/plain": [
       "array([[0, 0, 2, ..., 0, 2, 2],\n",
       "       [1, 2, 1, ..., 2, 0, 0],\n",
       "       [0, 0, 0, ..., 2, 1, 0],\n",
       "       ...,\n",
       "       [1, 2, 0, ..., 2, 2, 0],\n",
       "       [0, 0, 0, ..., 0, 2, 2],\n",
       "       [1, 1, 1, ..., 2, 2, 2]])"
      ]
     },
     "execution_count": 3,
     "metadata": {},
     "output_type": "execute_result"
    }
   ],
   "source": [
    "# Represent the forest as a 2D numpy array using list comprehension\n",
    "forest = np.array([[int(x) for x in y.strip()] for y in data])\n",
    "forest"
   ]
  },
  {
   "cell_type": "code",
   "execution_count": 4,
   "id": "98c22e12",
   "metadata": {},
   "outputs": [
    {
     "data": {
      "text/plain": [
       "(99, 99)"
      ]
     },
     "execution_count": 4,
     "metadata": {},
     "output_type": "execute_result"
    }
   ],
   "source": [
    "forest.shape"
   ]
  },
  {
   "cell_type": "code",
   "execution_count": 5,
   "id": "c2ecf4d9",
   "metadata": {},
   "outputs": [],
   "source": [
    "# Create a similar array to identify the visible trees, fill with zeros.\n",
    "visible = np.array([[0 for x in y.strip()] for y in data])"
   ]
  },
  {
   "cell_type": "code",
   "execution_count": 6,
   "id": "563a13c2",
   "metadata": {},
   "outputs": [],
   "source": [
    "# The edge trees are all visible\n",
    "visible[ 0,   ] = 1  # Top Row\n",
    "visible[98,   ] = 1  # Bottom Row\n",
    "visible[ :,  0] = 1  # Left Column\n",
    "visible[ :, 98] = 1  # Right Column"
   ]
  },
  {
   "cell_type": "code",
   "execution_count": 7,
   "id": "192ceaaa",
   "metadata": {},
   "outputs": [
    {
     "data": {
      "text/plain": [
       "392"
      ]
     },
     "execution_count": 7,
     "metadata": {},
     "output_type": "execute_result"
    }
   ],
   "source": [
    "np.sum(visible)"
   ]
  },
  {
   "cell_type": "code",
   "execution_count": 8,
   "id": "8463cffd",
   "metadata": {},
   "outputs": [],
   "source": [
    "# a tree is visible if it's taller than the highest tree in any direction\n",
    "for r in range(1, 98):\n",
    "    for c in range(1, 98):\n",
    "        if forest[r, c] > min(np.max(forest[r, 0:c]), np.max(forest[r, c+1:99]), \n",
    "                              np.max(forest[0:r, c]), np.max(forest[r+1:99, c])\n",
    "                             ):\n",
    "            visible[r, c] = 1"
   ]
  },
  {
   "cell_type": "code",
   "execution_count": 9,
   "id": "ca857d27",
   "metadata": {},
   "outputs": [
    {
     "data": {
      "text/plain": [
       "array([[1, 1, 1, ..., 1, 1, 1],\n",
       "       [1, 1, 0, ..., 1, 0, 1],\n",
       "       [1, 0, 0, ..., 1, 1, 1],\n",
       "       ...,\n",
       "       [1, 1, 0, ..., 0, 1, 1],\n",
       "       [1, 0, 0, ..., 0, 0, 1],\n",
       "       [1, 1, 1, ..., 1, 1, 1]])"
      ]
     },
     "execution_count": 9,
     "metadata": {},
     "output_type": "execute_result"
    }
   ],
   "source": [
    "visible"
   ]
  },
  {
   "cell_type": "code",
   "execution_count": 10,
   "id": "ac11a23f",
   "metadata": {},
   "outputs": [
    {
     "data": {
      "text/plain": [
       "1814"
      ]
     },
     "execution_count": 10,
     "metadata": {},
     "output_type": "execute_result"
    }
   ],
   "source": [
    "np.sum(visible)"
   ]
  },
  {
   "cell_type": "raw",
   "id": "ea87b194",
   "metadata": {},
   "source": [
    "--- Part Two ---\n",
    "\n",
    "Content with the amount of tree cover available, the Elves just need to know the best spot to build their tree house: they would like to be able to see a lot of trees.\n",
    "\n",
    "To measure the viewing distance from a given tree, look up, down, left, and right from that tree; stop if you reach an edge or at the first tree that is the same height or taller than the tree under consideration. (If a tree is right on the edge, at least one of its viewing distances will be zero.)\n",
    "\n",
    "The Elves don't care about distant trees taller than those found by the rules above; the proposed tree house has large eaves to keep it dry, so they wouldn't be able to see higher than the tree house anyway.\n",
    "\n",
    "In the example above, consider the middle 5 in the second row:\n",
    "\n",
    "30373\n",
    "25512\n",
    "65332\n",
    "33549\n",
    "35390\n",
    "\n",
    "    Looking up, its view is not blocked; it can see 1 tree (of height 3).\n",
    "    Looking left, its view is blocked immediately; it can see only 1 tree (of height 5, right next to it).\n",
    "    Looking right, its view is not blocked; it can see 2 trees.\n",
    "    Looking down, its view is blocked eventually; it can see 2 trees (one of height 3, then the tree of height 5 that blocks its view).\n",
    "\n",
    "A tree's scenic score is found by multiplying together its viewing distance in each of the four directions. For this tree, this is 4 (found by multiplying 1 * 1 * 2 * 2).\n",
    "\n",
    "However, you can do even better: consider the tree of height 5 in the middle of the fourth row:\n",
    "\n",
    "30373\n",
    "25512\n",
    "65332\n",
    "33549\n",
    "35390\n",
    "\n",
    "    Looking up, its view is blocked at 2 trees (by another tree with a height of 5).\n",
    "    Looking left, its view is not blocked; it can see 2 trees.\n",
    "    Looking down, its view is also not blocked; it can see 1 tree.\n",
    "    Looking right, its view is blocked at 2 trees (by a massive tree of height 9).\n",
    "\n",
    "This tree's scenic score is 8 (2 * 2 * 1 * 2); this is the ideal spot for the tree house.\n",
    "\n",
    "Consider each tree on your map. What is the highest scenic score possible for any tree?\n"
   ]
  },
  {
   "cell_type": "code",
   "execution_count": 11,
   "id": "f5e2085c",
   "metadata": {},
   "outputs": [],
   "source": [
    "scenic = np.array([[0 for x in y.strip()] for y in data])\n",
    "\n",
    "for r in range(1, 98):\n",
    "    for c in range(1, 98):\n",
    "        upblock = np.where(np.flip(forest[0:r, c]) >= forest[r,c])[0]\n",
    "        if len(upblock) == 0: \n",
    "            upscore = r\n",
    "        else:\n",
    "            upscore = upblock[0] + 1\n",
    "        \n",
    "        leftblock = np.where(np.flip(forest[r, 0:c])  >= forest[r,c])[0]\n",
    "        if len(leftblock) == 0:\n",
    "            leftscore = c\n",
    "        else:\n",
    "            leftscore = leftblock[0] + 1\n",
    "            \n",
    "        downblock = np.where(forest[r+1:99, c]  >= forest[r,c])[0]\n",
    "        if len(downblock) == 0:\n",
    "            downscore = 98 - r\n",
    "        else:\n",
    "            downscore = downblock[0] + 1\n",
    "            \n",
    "        rightblock = np.where(forest[r, c+1:99]  >= forest[r,c])[0]\n",
    "        if len(rightblock) == 0:\n",
    "            rightscore = 98 - c\n",
    "        else:\n",
    "            rightscore = rightblock[0] + 1\n",
    "            \n",
    "        scenic[r, c] = upscore * leftscore * downscore * rightscore\n"
   ]
  },
  {
   "cell_type": "code",
   "execution_count": 12,
   "id": "786be34e",
   "metadata": {},
   "outputs": [
    {
     "data": {
      "text/plain": [
       "array([[ 0,  0,  0, ...,  0,  0,  0],\n",
       "       [ 0, 24,  3, ...,  2,  1,  0],\n",
       "       [ 0,  1,  1, ...,  6,  2,  0],\n",
       "       ...,\n",
       "       [ 0, 20,  1, ...,  6,  3,  0],\n",
       "       [ 0,  1,  1, ...,  1,  7,  0],\n",
       "       [ 0,  0,  0, ...,  0,  0,  0]])"
      ]
     },
     "execution_count": 12,
     "metadata": {},
     "output_type": "execute_result"
    }
   ],
   "source": [
    "scenic"
   ]
  },
  {
   "cell_type": "code",
   "execution_count": 13,
   "id": "8b06e05d",
   "metadata": {},
   "outputs": [
    {
     "data": {
      "text/plain": [
       "330786"
      ]
     },
     "execution_count": 13,
     "metadata": {},
     "output_type": "execute_result"
    }
   ],
   "source": [
    "np.max(scenic)"
   ]
  },
  {
   "cell_type": "code",
   "execution_count": 14,
   "id": "9671a617",
   "metadata": {},
   "outputs": [
    {
     "data": {
      "text/plain": [
       "6250000"
      ]
     },
     "execution_count": 14,
     "metadata": {},
     "output_type": "execute_result"
    }
   ],
   "source": [
    "# reality check: consider a tree in the middle with a totally unobstructed view. What's the score?\n",
    "50*50*50*50"
   ]
  },
  {
   "cell_type": "code",
   "execution_count": null,
   "id": "739d7fbb",
   "metadata": {},
   "outputs": [],
   "source": []
  }
 ],
 "metadata": {
  "kernelspec": {
   "display_name": "Python 3 (ipykernel)",
   "language": "python",
   "name": "python3"
  },
  "language_info": {
   "codemirror_mode": {
    "name": "ipython",
    "version": 3
   },
   "file_extension": ".py",
   "mimetype": "text/x-python",
   "name": "python",
   "nbconvert_exporter": "python",
   "pygments_lexer": "ipython3",
   "version": "3.9.6"
  }
 },
 "nbformat": 4,
 "nbformat_minor": 5
}
