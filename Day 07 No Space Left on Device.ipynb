{
 "cells": [
  {
   "cell_type": "markdown",
   "id": "a8361775",
   "metadata": {},
   "source": [
    "# --- Day 7: No Space Left On Device ---\n",
    "\n",
    "Problem statement: See https://adventofcode.com/2022/day/7\n",
    "\n",
    "My approach:\n",
    "\n",
    "Examine the terminal output line by line.\n",
    "Keep track of where you are (path), all the current directories including parents (indirs), and the accumulated size of all discovered directories (sizes).\n",
    "\n",
    "If the line begins with \\$, interpret as a command. There are two recognized commands, cd and ls.\n",
    "* The cd command can navigate:\n",
    "  * to the top\n",
    "   * set the path to /\n",
    "   * clear the list of parent directories\n",
    "  * down one level\n",
    "   * add the directory name to the path and the list of current directories\n",
    "   * if this is a new directory, add it to the dictionary of discovered directories\n",
    "  * up one level\n",
    "   * remove the current path from the list of current directories \n",
    "   * remove the current directory from the end of the path\n",
    "* The ls command is followed by multiple lines of data.\n",
    "  * Examine the subsequent lines until you reach the end of the input or the next line begins with \\$\n",
    "  * If it's a directory, ignore\n",
    "  * Otherwise assume it's a file and add the file size to all current directories, including parents. \n",
    "  \n",
    "This builds a dictionary of all directories with their sizes. Cast it to a pandas dataframe to simplify selection and aggregation.\n"
   ]
  },
  {
   "cell_type": "code",
   "execution_count": 1,
   "id": "9c27e2a7",
   "metadata": {},
   "outputs": [
    {
     "data": {
      "text/plain": [
       "1844187"
      ]
     },
     "execution_count": 1,
     "metadata": {},
     "output_type": "execute_result"
    }
   ],
   "source": [
    "import re\n",
    "import pandas as pd\n",
    "\n",
    "sizes = {}   # accumulate sizes of known directories as you navigate the tree\n",
    "indirs = []  # keep track of all the directories you are in, including ancestors\n",
    "path = ''\n",
    "    \n",
    "with open('terminaloutput.txt', 'r') as f:\n",
    "    term_out = f.read().split('\\n')\n",
    "\n",
    "while len(term_out) > 0:\n",
    "    line = term_out.pop(0)\n",
    "\n",
    "    if line.split()[0] == '$':\n",
    "        if line.split()[1] == 'cd':\n",
    "            if line.split()[2] == '..':\n",
    "                indirs.remove(path)\n",
    "                path = path[:[m.start() for m in re.finditer('/', path)].pop(-2)+1]\n",
    "            else:\n",
    "                if line.split()[2] =='/':\n",
    "                    path = line.split()[2]\n",
    "                    indirs = [path]\n",
    "                else:\n",
    "                    path += line.split()[2] + '/'\n",
    "                    indirs.append(path)\n",
    "                if not path in sizes:\n",
    "                    sizes[path] = 0\n",
    "                \n",
    "        elif line.split()[1] == 'ls':\n",
    "            while (len(term_out) > 0) and (not term_out[0].split()[0] == '$'):\n",
    "                line = term_out.pop(0)\n",
    "                if line.split()[0] != 'dir':\n",
    "                    for d in indirs:\n",
    "                        sizes[d] += int(line.split()[0])\n",
    "\n",
    "df = pd.DataFrame.from_dict(sizes, orient='index', columns=['size'])\n",
    "\n",
    "max100k = df[df['size'] <= 100000]\n",
    "\n",
    "sum(max100k['size'])"
   ]
  },
  {
   "cell_type": "markdown",
   "id": "1087f7ed",
   "metadata": {},
   "source": [
    "## --- Part Two ---"
   ]
  },
  {
   "cell_type": "code",
   "execution_count": 2,
   "id": "4fedc639",
   "metadata": {},
   "outputs": [
    {
     "data": {
      "text/plain": [
       "4978279"
      ]
     },
     "execution_count": 2,
     "metadata": {},
     "output_type": "execute_result"
    }
   ],
   "source": [
    "capacity = 70000000\n",
    "update = 30000000\n",
    "free = capacity - sizes['/']\n",
    "\n",
    "df.loc[df['size'] >= (update - free), 'size'].min()"
   ]
  },
  {
   "cell_type": "code",
   "execution_count": null,
   "id": "41187f56",
   "metadata": {},
   "outputs": [],
   "source": []
  }
 ],
 "metadata": {
  "kernelspec": {
   "display_name": "Python 3 (ipykernel)",
   "language": "python",
   "name": "python3"
  },
  "language_info": {
   "codemirror_mode": {
    "name": "ipython",
    "version": 3
   },
   "file_extension": ".py",
   "mimetype": "text/x-python",
   "name": "python",
   "nbconvert_exporter": "python",
   "pygments_lexer": "ipython3",
   "version": "3.9.6"
  }
 },
 "nbformat": 4,
 "nbformat_minor": 5
}
