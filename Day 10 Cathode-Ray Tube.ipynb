{
 "cells": [
  {
   "cell_type": "markdown",
   "id": "9f419d83",
   "metadata": {},
   "source": [
    "https://adventofcode.com/2022/day/10"
   ]
  },
  {
   "cell_type": "code",
   "execution_count": 1,
   "id": "0822939d",
   "metadata": {},
   "outputs": [
    {
     "name": "stdout",
     "output_type": "stream",
     "text": [
      "@@@..@@@@..@@..@@@..@..@.@@@..@@@@.@@@..\n",
      "@..@....@.@..@.@..@.@.@..@..@.@....@..@.\n",
      "@..@...@..@....@..@.@@...@..@.@@@..@@@..\n",
      "@@@...@...@.@@.@@@..@.@..@@@..@....@..@.\n",
      "@....@....@..@.@....@.@..@....@....@..@.\n",
      "@....@@@@..@@@.@....@..@.@....@@@@.@@@..\n"
     ]
    }
   ],
   "source": [
    "cycle = 1\n",
    "countdown = 1\n",
    "x = 1\n",
    "v = 0\n",
    "interesting = 0\n",
    "lit = ''\n",
    "\n",
    "with open('crt.txt', 'r') as f:\n",
    "    program = f.read().strip().split('\\n')\n",
    "\n",
    "while len(program) > 0 or countdown > 1:\n",
    "    countdown -= 1\n",
    "    if countdown == 0:\n",
    "        x += v\n",
    "        instruct = program.pop(0).split()\n",
    "        if instruct[0] == 'addx':\n",
    "            countdown = 2\n",
    "            v = int(instruct[1])\n",
    "        else:\n",
    "            countdown = 1\n",
    "            v = 0\n",
    "    \n",
    "    # for part 1 \n",
    "    signal = cycle * x\n",
    "    if cycle in [20, 60, 100, 140, 180, 220]:\n",
    "        interesting += signal\n",
    "\n",
    "    # for part 2\n",
    "    horiz = (cycle - 1) % 40\n",
    "    offset = x - horiz\n",
    "    if offset >= -1 and offset <= 1:\n",
    "        lit = lit + '@'\n",
    "    else:\n",
    "        lit = lit + '.'\n",
    "    if cycle in [40, 80, 120, 160, 200, 240]:\n",
    "        print(lit)\n",
    "        lit = ''\n",
    "        \n",
    "    cycle += 1"
   ]
  },
  {
   "cell_type": "code",
   "execution_count": 2,
   "id": "e33594ea",
   "metadata": {},
   "outputs": [
    {
     "data": {
      "text/plain": [
       "13680"
      ]
     },
     "execution_count": 2,
     "metadata": {},
     "output_type": "execute_result"
    }
   ],
   "source": [
    "interesting"
   ]
  },
  {
   "attachments": {
    "image.png": {
     "image/png": "[encoded data removed]"
    }
   },
   "cell_type": "markdown",
   "id": "85f65f1f",
   "metadata": {},
   "source": [
    "Spreadsheet implementation: https://docs.google.com/spreadsheets/d/12RQWqPHakg8SWBRPs-k4PEQRkh6S1gD4G_-N4K13Buk/edit?usp=sharing\n",
    "\n",
    "![image.png](attachment:image.png)\n"
   ]
  },
  {
   "cell_type": "code",
   "execution_count": null,
   "id": "3d215c78",
   "metadata": {},
   "outputs": [],
   "source": []
  }
 ],
 "metadata": {
  "kernelspec": {
   "display_name": "Python 3 (ipykernel)",
   "language": "python",
   "name": "python3"
  },
  "language_info": {
   "codemirror_mode": {
    "name": "ipython",
    "version": 3
   },
   "file_extension": ".py",
   "mimetype": "text/x-python",
   "name": "python",
   "nbconvert_exporter": "python",
   "pygments_lexer": "ipython3",
   "version": "3.9.6"
  }
 },
 "nbformat": 4,
 "nbformat_minor": 5
}
