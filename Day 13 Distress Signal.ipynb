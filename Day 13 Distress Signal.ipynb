{
 "cells": [
  {
   "cell_type": "markdown",
   "id": "5eeed472",
   "metadata": {},
   "source": [
    "# Day 13: Distress Signal\n",
    "You'll need to re-order a list of received packets (your puzzle input) to decode the message.\n",
    "\n",
    "For further instructions, see https://adventofcode.com/2022/day/13"
   ]
  },
  {
   "cell_type": "markdown",
   "id": "790eda52",
   "metadata": {},
   "source": [
    "## Import the data"
   ]
  },
  {
   "cell_type": "code",
   "execution_count": 1,
   "id": "ef563378",
   "metadata": {},
   "outputs": [],
   "source": [
    "with open('data/packets.txt', 'r') as f:\n",
    "    puzzle = f.read()"
   ]
  },
  {
   "cell_type": "markdown",
   "id": "2e1d0118",
   "metadata": {},
   "source": [
    "Or, use example input."
   ]
  },
  {
   "cell_type": "code",
   "execution_count": 2,
   "id": "2d059645",
   "metadata": {},
   "outputs": [],
   "source": [
    "# example input\n",
    "puzzle='''[1,1,3,1,1]\n",
    "[1,1,5,1,1]\n",
    "\n",
    "[[1],[2,3,4]]\n",
    "[[1],4]\n",
    "\n",
    "[9]\n",
    "[[8,7,6]]\n",
    "\n",
    "[[4,4],4,4]\n",
    "[[4,4],4,4,4]\n",
    "\n",
    "[7,7,7,7]\n",
    "[7,7,7]\n",
    "\n",
    "[]\n",
    "[3]\n",
    "\n",
    "[[[]]]\n",
    "[[]]\n",
    "\n",
    "[1,[2,[3,[4,[5,6,7]]]],8,9]\n",
    "[1,[2,[3,[4,[5,6,0]]]],8,9]'''"
   ]
  },
  {
   "cell_type": "markdown",
   "id": "512a4041",
   "metadata": {},
   "source": [
    "## Reading the input"
   ]
  },
  {
   "cell_type": "code",
   "execution_count": 3,
   "id": "6742d01c",
   "metadata": {},
   "outputs": [
    {
     "data": {
      "text/plain": [
       "'[1,1,3,1,1]'"
      ]
     },
     "execution_count": 3,
     "metadata": {},
     "output_type": "execute_result"
    }
   ],
   "source": [
    "pairs = puzzle.split('\\n\\n')\n",
    "left0 = pairs[0].split('\\n')[0]\n",
    "left0"
   ]
  },
  {
   "cell_type": "markdown",
   "id": "1e6cc91c",
   "metadata": {},
   "source": [
    "We need to decode these strings as python lists. Our friend Json is good at that, let's bring him in."
   ]
  },
  {
   "cell_type": "code",
   "execution_count": 4,
   "id": "488269ea",
   "metadata": {},
   "outputs": [
    {
     "data": {
      "text/plain": [
       "[1, 1, 3, 1, 1]"
      ]
     },
     "execution_count": 4,
     "metadata": {},
     "output_type": "execute_result"
    }
   ],
   "source": [
    "import json\n",
    "left0 = json.loads(left0)\n",
    "left0"
   ]
  },
  {
   "cell_type": "markdown",
   "id": "e0acaa89",
   "metadata": {},
   "source": [
    "## Strategy"
   ]
  },
  {
   "cell_type": "markdown",
   "id": "9cbf8f52",
   "metadata": {},
   "source": [
    "Packets can contain a mix of integers and lists. We use recursion to navigate the packets and compare values. The first step is to check the datatype of each value and convert integers to lists before comparing them against lists."
   ]
  },
  {
   "cell_type": "code",
   "execution_count": 5,
   "id": "6d8177d1",
   "metadata": {},
   "outputs": [],
   "source": [
    "def check_order(left, right):\n",
    "    if type(left) is int and type(right) is list:\n",
    "        return check_order([left], right)\n",
    "    elif type(left) is list and type(right) is int:\n",
    "        return check_order(left, [right])\n",
    "    elif type(left) is int and type(right) is int:\n",
    "        if left < right:\n",
    "            return 'in order'\n",
    "        elif left > right:\n",
    "            return 'not in order'\n",
    "        else:\n",
    "            return 'keep going'\n",
    "    elif left == [] and right != []:\n",
    "        return 'in order'\n",
    "    elif left != [] and right == []:\n",
    "        return 'not in order'\n",
    "    elif left == [] and right == []:\n",
    "        return 'keep going'\n",
    "    else: \n",
    "        left_value = left.pop(0)\n",
    "        right_value = right.pop(0)\n",
    "        order = check_order(left_value, right_value)\n",
    "        if order == 'keep going':\n",
    "            return check_order(left, right)\n",
    "        else:\n",
    "            return order\n",
    "        "
   ]
  },
  {
   "cell_type": "code",
   "execution_count": 6,
   "id": "ccc633b0",
   "metadata": {},
   "outputs": [
    {
     "data": {
      "text/plain": [
       "13"
      ]
     },
     "execution_count": 6,
     "metadata": {},
     "output_type": "execute_result"
    }
   ],
   "source": [
    "answer=0\n",
    "index=0\n",
    "\n",
    "pairs = puzzle.split('\\n\\n')\n",
    "for pair in pairs:\n",
    "    index += 1\n",
    "    left = json.loads(pair.split('\\n')[0])\n",
    "    right = json.loads(pair.split('\\n')[1])  \n",
    "    order = check_order(left, right)\n",
    "    if order == 'in order':\n",
    "        answer += index\n",
    "    \n",
    "answer"
   ]
  },
  {
   "cell_type": "markdown",
   "id": "7ccbe65e",
   "metadata": {},
   "source": [
    "## Part 2\n",
    "Ignore blank lines, include two additional divider packets, and put all packets in order. Calculate the decoder key by multiplying the indices of the divider packets."
   ]
  },
  {
   "cell_type": "code",
   "execution_count": 7,
   "id": "068e098e",
   "metadata": {},
   "outputs": [],
   "source": [
    "puzzle = puzzle + '\\n\\n[[2]]\\n[[6]]'"
   ]
  },
  {
   "cell_type": "code",
   "execution_count": 8,
   "id": "4f046fad",
   "metadata": {},
   "outputs": [
    {
     "data": {
      "text/plain": [
       "[[1, 1, 3, 1, 1],\n",
       " [1, 1, 5, 1, 1],\n",
       " [[1], [2, 3, 4]],\n",
       " [[1], 4],\n",
       " [9],\n",
       " [[8, 7, 6]],\n",
       " [[4, 4], 4, 4],\n",
       " [[4, 4], 4, 4, 4],\n",
       " [7, 7, 7, 7],\n",
       " [7, 7, 7],\n",
       " [],\n",
       " [3],\n",
       " [[[]]],\n",
       " [[]],\n",
       " [1, [2, [3, [4, [5, 6, 7]]]], 8, 9],\n",
       " [1, [2, [3, [4, [5, 6, 0]]]], 8, 9],\n",
       " [[2]],\n",
       " [[6]]]"
      ]
     },
     "execution_count": 8,
     "metadata": {},
     "output_type": "execute_result"
    }
   ],
   "source": [
    "packets = []\n",
    "\n",
    "for line in puzzle.split('\\n'):\n",
    "    if line != '':\n",
    "        packets.append(json.loads(line))\n",
    "        \n",
    "packets"
   ]
  },
  {
   "cell_type": "markdown",
   "id": "ae2a6ca4",
   "metadata": {},
   "source": [
    "### Strategy\n",
    "\n",
    "Let's start simple.\n",
    "\n",
    "* Compare packet 2 to 1. If out of order, swap.\n",
    "* Compare 3 to 2. If out of order, swap, and compare 3 to 1. ...\n",
    "* Compare n to n-1. If out of order, swap, and repeat until packet n in order. "
   ]
  },
  {
   "cell_type": "code",
   "execution_count": 9,
   "id": "bfc6a057",
   "metadata": {},
   "outputs": [],
   "source": [
    "import copy\n",
    "# because lists are mutable, and my check_order function pops off elements"
   ]
  },
  {
   "cell_type": "code",
   "execution_count": 10,
   "id": "a6309c54",
   "metadata": {},
   "outputs": [],
   "source": [
    "n = 1\n",
    "inplace = False\n",
    "\n",
    "while n < len(packets):\n",
    "    p = n\n",
    "    while p > 0:\n",
    "        order = check_order(copy.deepcopy(packets[p-1]), copy.deepcopy(packets[p]))\n",
    "        if order == 'not in order':\n",
    "            packets[p-1], packets[p] = packets[p], packets[p-1]\n",
    "            p -= 1\n",
    "        else:\n",
    "            p = 0      \n",
    "    n += 1"
   ]
  },
  {
   "cell_type": "code",
   "execution_count": 11,
   "id": "1f9c4d1f",
   "metadata": {},
   "outputs": [
    {
     "data": {
      "text/plain": [
       "[[],\n",
       " [[]],\n",
       " [[[]]],\n",
       " [1, 1, 3, 1, 1],\n",
       " [1, 1, 5, 1, 1],\n",
       " [[1], [2, 3, 4]],\n",
       " [1, [2, [3, [4, [5, 6, 0]]]], 8, 9],\n",
       " [1, [2, [3, [4, [5, 6, 7]]]], 8, 9],\n",
       " [[1], 4],\n",
       " [[2]],\n",
       " [3],\n",
       " [[4, 4], 4, 4],\n",
       " [[4, 4], 4, 4, 4],\n",
       " [[6]],\n",
       " [7, 7, 7],\n",
       " [7, 7, 7, 7],\n",
       " [[8, 7, 6]],\n",
       " [9]]"
      ]
     },
     "execution_count": 11,
     "metadata": {},
     "output_type": "execute_result"
    }
   ],
   "source": [
    "packets"
   ]
  },
  {
   "cell_type": "code",
   "execution_count": 12,
   "id": "66328e4c",
   "metadata": {},
   "outputs": [
    {
     "data": {
      "text/plain": [
       "140"
      ]
     },
     "execution_count": 12,
     "metadata": {},
     "output_type": "execute_result"
    }
   ],
   "source": [
    "(packets.index([[2]]) + 1) * (packets.index([[6]]) + 1)"
   ]
  },
  {
   "cell_type": "code",
   "execution_count": null,
   "id": "b0c3b287",
   "metadata": {},
   "outputs": [],
   "source": []
  }
 ],
 "metadata": {
  "kernelspec": {
   "display_name": "Python 3 (ipykernel)",
   "language": "python",
   "name": "python3"
  },
  "language_info": {
   "codemirror_mode": {
    "name": "ipython",
    "version": 3
   },
   "file_extension": ".py",
   "mimetype": "text/x-python",
   "name": "python",
   "nbconvert_exporter": "python",
   "pygments_lexer": "ipython3",
   "version": "3.9.6"
  }
 },
 "nbformat": 4,
 "nbformat_minor": 5
}
