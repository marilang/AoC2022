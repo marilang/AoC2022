{
 "cells": [
  {
   "cell_type": "raw",
   "id": "3ca4a7ec",
   "metadata": {},
   "source": [
    "https://adventofcode.com/2022/day/5\n",
    "\n",
    "--- Day 5: Supply Stacks ---\n",
    "\n",
    "The expedition can depart as soon as the final supplies have been unloaded from the ships. Supplies are stored in stacks of marked crates, but because the needed supplies are buried under many other crates, the crates need to be rearranged.\n",
    "\n",
    "The ship has a giant cargo crane capable of moving crates between stacks. To ensure none of the crates get crushed or fall over, the crane operator will rearrange them in a series of carefully-planned steps. After the crates are rearranged, the desired crates will be at the top of each stack.\n",
    "\n",
    "The Elves don't want to interrupt the crane operator during this delicate procedure, but they forgot to ask her which crate will end up where, and they want to be ready to unload them as soon as possible so they can embark.\n",
    "\n",
    "They do, however, have a drawing of the starting stacks of crates and the rearrangement procedure (your puzzle input). For example:\n",
    "\n",
    "    [D]    \n",
    "[N] [C]    \n",
    "[Z] [M] [P]\n",
    " 1   2   3 \n",
    "\n",
    "move 1 from 2 to 1\n",
    "move 3 from 1 to 3\n",
    "move 2 from 2 to 1\n",
    "move 1 from 1 to 2\n",
    "\n",
    "In this example, there are three stacks of crates. Stack 1 contains two crates: crate Z is on the bottom, and crate N is on top. Stack 2 contains three crates; from bottom to top, they are crates M, C, and D. Finally, stack 3 contains a single crate, P.\n",
    "\n",
    "Then, the rearrangement procedure is given. In each step of the procedure, a quantity of crates is moved from one stack to a different stack. In the first step of the above rearrangement procedure, one crate is moved from stack 2 to stack 1, resulting in this configuration:\n",
    "\n",
    "[D]        \n",
    "[N] [C]    \n",
    "[Z] [M] [P]\n",
    " 1   2   3 \n",
    "\n",
    "In the second step, three crates are moved from stack 1 to stack 3. Crates are moved one at a time, so the first crate to be moved (D) ends up below the second and third crates:\n",
    "\n",
    "        [Z]\n",
    "        [N]\n",
    "    [C] [D]\n",
    "    [M] [P]\n",
    " 1   2   3\n",
    "\n",
    "Then, both crates are moved from stack 2 to stack 1. Again, because crates are moved one at a time, crate C ends up below crate M:\n",
    "\n",
    "        [Z]\n",
    "        [N]\n",
    "[M]     [D]\n",
    "[C]     [P]\n",
    " 1   2   3\n",
    "\n",
    "Finally, one crate is moved from stack 1 to stack 2:\n",
    "\n",
    "        [Z]\n",
    "        [N]\n",
    "        [D]\n",
    "[C] [M] [P]\n",
    " 1   2   3\n",
    "\n",
    "The Elves just need to know which crate will end up on top of each stack; in this example, the top crates are C in stack 1, M in stack 2, and Z in stack 3, so you should combine these together and give the Elves the message CMZ.\n",
    "\n",
    "After the rearrangement procedure completes, what crate ends up on top of each stack?\n"
   ]
  },
  {
   "cell_type": "raw",
   "id": "cfe4f35b",
   "metadata": {},
   "source": [
    "Puzzle input:\n",
    "\n",
    "    [V] [G]             [H]        \n",
    "[Z] [H] [Z]         [T] [S]        \n",
    "[P] [D] [F]         [B] [V] [Q]    \n",
    "[B] [M] [V] [N]     [F] [D] [N]    \n",
    "[Q] [Q] [D] [F]     [Z] [Z] [P] [M]\n",
    "[M] [Z] [R] [D] [Q] [V] [T] [F] [R]\n",
    "[D] [L] [H] [G] [F] [Q] [M] [G] [W]\n",
    "[N] [C] [Q] [H] [N] [D] [Q] [M] [B]\n",
    " 1   2   3   4   5   6   7   8   9 \n",
    "\n",
    "move 3 from 2 to 5\n",
    "...\n",
    "move 1 from 9 to 5\n"
   ]
  },
  {
   "cell_type": "code",
   "execution_count": 1,
   "id": "d415f155",
   "metadata": {},
   "outputs": [],
   "source": [
    "stacks = {}\n",
    "\n",
    "stacks['1'] = 'NDMQBPZ'\n",
    "stacks['2'] = 'CLZQMDHV'\n",
    "stacks['3'] = 'QHRDVFZG'\n",
    "stacks['4'] = 'HGDFN'\n",
    "stacks['5'] = 'NFQ'\n",
    "stacks['6'] = 'DQVZFBT'\n",
    "stacks['7'] = 'QMTZDVSH'\n",
    "stacks['8'] = 'MGFPNQ'\n",
    "stacks['9'] = 'BWRM'\n"
   ]
  },
  {
   "cell_type": "code",
   "execution_count": 2,
   "id": "7f05ab6c",
   "metadata": {},
   "outputs": [],
   "source": [
    "def move(step):\n",
    "    ncr=int(step.split()[1])\n",
    "    fr=step.split()[3]\n",
    "    to=step.split()[5]\n",
    "\n",
    "    for i in range(ncr):\n",
    "        cr = stacks[fr][-1:]\n",
    "        stacks[fr] = stacks[fr][:-1]\n",
    "        stacks[to] = stacks[to] + cr\n"
   ]
  },
  {
   "cell_type": "code",
   "execution_count": 3,
   "id": "a5e7018d",
   "metadata": {},
   "outputs": [
    {
     "data": {
      "text/plain": [
       "{'1': 'Q',\n",
       " '2': 'ZRTG',\n",
       " '3': 'PQMT',\n",
       " '4': 'H',\n",
       " '5': 'F',\n",
       " '6': 'WZ',\n",
       " '7': 'DHDRZFQQVDQNZFVFDMCLNNHVB',\n",
       " '8': 'PZMBSGFBQNMQMDH',\n",
       " '9': 'DGV'}"
      ]
     },
     "execution_count": 3,
     "metadata": {},
     "output_type": "execute_result"
    }
   ],
   "source": [
    "with open('data/cratemoves.txt', 'r') as f:\n",
    "    moves = f.readlines()\n",
    "    \n",
    "for step in moves:\n",
    "    move(step.rstrip())\n",
    "    \n",
    "stacks"
   ]
  },
  {
   "cell_type": "markdown",
   "id": "f60a9d3c",
   "metadata": {},
   "source": [
    "Part 1 answer: QGTHFZBHV"
   ]
  },
  {
   "cell_type": "raw",
   "id": "3a58b910",
   "metadata": {},
   "source": [
    "--- Part Two ---\n",
    "\n",
    "As you watch the crane operator expertly rearrange the crates, you notice the process isn't following your prediction.\n",
    "\n",
    "Some mud was covering the writing on the side of the crane, and you quickly wipe it away. The crane isn't a CrateMover 9000 - it's a CrateMover 9001.\n",
    "\n",
    "The CrateMover 9001 is notable for many new and exciting features: air conditioning, leather seats, an extra cup holder, and the ability to pick up and move multiple crates at once.\n",
    "\n",
    "Again considering the example above, the crates begin in the same configuration:\n",
    "\n",
    "    [D]    \n",
    "[N] [C]    \n",
    "[Z] [M] [P]\n",
    " 1   2   3 \n",
    "\n",
    "Moving a single crate from stack 2 to stack 1 behaves the same as before:\n",
    "\n",
    "[D]        \n",
    "[N] [C]    \n",
    "[Z] [M] [P]\n",
    " 1   2   3 \n",
    "\n",
    "However, the action of moving three crates from stack 1 to stack 3 means that those three moved crates stay in the same order, resulting in this new configuration:\n",
    "\n",
    "        [D]\n",
    "        [N]\n",
    "    [C] [Z]\n",
    "    [M] [P]\n",
    " 1   2   3\n",
    "\n",
    "Next, as both crates are moved from stack 2 to stack 1, they retain their order as well:\n",
    "\n",
    "        [D]\n",
    "        [N]\n",
    "[C]     [Z]\n",
    "[M]     [P]\n",
    " 1   2   3\n",
    "\n",
    "Finally, a single crate is still moved from stack 1 to stack 2, but now it's crate C that gets moved:\n",
    "\n",
    "        [D]\n",
    "        [N]\n",
    "        [Z]\n",
    "[M] [C] [P]\n",
    " 1   2   3\n",
    "\n",
    "In this example, the CrateMover 9001 has put the crates in a totally different order: MCD.\n",
    "\n",
    "Before the rearrangement process finishes, update your simulation so that the Elves know where they should stand to be ready to unload the final supplies. After the rearrangement procedure completes, what crate ends up on top of each stack?\n"
   ]
  },
  {
   "cell_type": "code",
   "execution_count": 4,
   "id": "d2a80772",
   "metadata": {},
   "outputs": [
    {
     "data": {
      "text/plain": [
       "{'1': 'M',\n",
       " '2': 'RPHG',\n",
       " '3': 'NHFD',\n",
       " '4': 'M',\n",
       " '5': 'P',\n",
       " '6': 'ZS',\n",
       " '7': 'DZCDFVRDMDZBVDQWQQFNBVFFZ',\n",
       " '8': 'LMVQQBTNGHGNQHT',\n",
       " '9': 'ZQM'}"
      ]
     },
     "execution_count": 4,
     "metadata": {},
     "output_type": "execute_result"
    }
   ],
   "source": [
    "stacks['1'] = 'NDMQBPZ'\n",
    "stacks['2'] = 'CLZQMDHV'\n",
    "stacks['3'] = 'QHRDVFZG'\n",
    "stacks['4'] = 'HGDFN'\n",
    "stacks['5'] = 'NFQ'\n",
    "stacks['6'] = 'DQVZFBT'\n",
    "stacks['7'] = 'QMTZDVSH'\n",
    "stacks['8'] = 'MGFPNQ'\n",
    "stacks['9'] = 'BWRM'\n",
    "\n",
    "\n",
    "def move(step):\n",
    "    ncr=int(step.split()[1])\n",
    "    fr=step.split()[3]\n",
    "    to=step.split()[5]\n",
    "\n",
    "    cr = stacks[fr][-1*ncr:]\n",
    "    stacks[fr] = stacks[fr][:-1*ncr]\n",
    "    stacks[to] = stacks[to] + cr\n",
    "    \n",
    "for step in moves:\n",
    "    move(step.rstrip())\n",
    "\n",
    "stacks"
   ]
  },
  {
   "cell_type": "markdown",
   "id": "aee1260e",
   "metadata": {},
   "source": [
    "Part 2 answer: MGDMPSZTM"
   ]
  },
  {
   "cell_type": "code",
   "execution_count": null,
   "id": "2c06c3cc",
   "metadata": {},
   "outputs": [],
   "source": []
  }
 ],
 "metadata": {
  "kernelspec": {
   "display_name": "Python 3 (ipykernel)",
   "language": "python",
   "name": "python3"
  },
  "language_info": {
   "codemirror_mode": {
    "name": "ipython",
    "version": 3
   },
   "file_extension": ".py",
   "mimetype": "text/x-python",
   "name": "python",
   "nbconvert_exporter": "python",
   "pygments_lexer": "ipython3",
   "version": "3.9.6"
  }
 },
 "nbformat": 4,
 "nbformat_minor": 5
}
