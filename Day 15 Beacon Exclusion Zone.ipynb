{
 "cells": [
  {
   "cell_type": "markdown",
   "id": "d2ba4fd1",
   "metadata": {},
   "source": [
    "# Day 15: Beacon Exclusion Zone\n",
    "A distress signal is received. A system of sensors is deployed. None of the sensors is locked on the beacon sending the distress signal. In order to narrow the search, eliminate the areas where the source couldn't be. For further instructions: https://adventofcode.com/2022/day/15\n",
    "\n",
    "To use example input, enter \"example = True\" in the following cell, or enter \"example = False\" to use puzzle input. Then restart and run all cells."
   ]
  },
  {
   "cell_type": "code",
   "execution_count": 1,
   "id": "59bc7cf5",
   "metadata": {},
   "outputs": [],
   "source": [
    "example = False"
   ]
  },
  {
   "cell_type": "markdown",
   "id": "0de4669d",
   "metadata": {},
   "source": [
    "<hr>"
   ]
  },
  {
   "cell_type": "code",
   "execution_count": 2,
   "id": "a8dd7ffe",
   "metadata": {},
   "outputs": [],
   "source": [
    "import pandas as pd\n",
    "import numpy as np"
   ]
  },
  {
   "cell_type": "markdown",
   "id": "3c6ddc4d",
   "metadata": {},
   "source": [
    "Read the puzzle input, or example input, according to the user's choice."
   ]
  },
  {
   "cell_type": "code",
   "execution_count": 3,
   "id": "43ca8d64",
   "metadata": {},
   "outputs": [],
   "source": [
    "def read_input(example):\n",
    "\n",
    "    if example:\n",
    "        puzzle = '''Sensor at x=2, y=18: closest beacon is at x=-2, y=15\n",
    "Sensor at x=9, y=16: closest beacon is at x=10, y=16\n",
    "Sensor at x=13, y=2: closest beacon is at x=15, y=3\n",
    "Sensor at x=12, y=14: closest beacon is at x=10, y=16\n",
    "Sensor at x=10, y=20: closest beacon is at x=10, y=16\n",
    "Sensor at x=14, y=17: closest beacon is at x=10, y=16\n",
    "Sensor at x=8, y=7: closest beacon is at x=2, y=10\n",
    "Sensor at x=2, y=0: closest beacon is at x=2, y=10\n",
    "Sensor at x=0, y=11: closest beacon is at x=2, y=10\n",
    "Sensor at x=20, y=14: closest beacon is at x=25, y=17\n",
    "Sensor at x=17, y=20: closest beacon is at x=21, y=22\n",
    "Sensor at x=16, y=7: closest beacon is at x=15, y=3\n",
    "Sensor at x=14, y=3: closest beacon is at x=15, y=3\n",
    "Sensor at x=20, y=1: closest beacon is at x=15, y=3'''\n",
    "    \n",
    "    else:\n",
    "        puzzle = '''Sensor at x=2899860, y=3122031: closest beacon is at x=2701269, y=3542780\n",
    "Sensor at x=1836719, y=1116779: closest beacon is at x=2037055, y=2000000\n",
    "Sensor at x=3995802, y=2706630: closest beacon is at x=3944538, y=3053285\n",
    "Sensor at x=2591204, y=2008272: closest beacon is at x=2597837, y=2509170\n",
    "Sensor at x=2546593, y=1538222: closest beacon is at x=2037055, y=2000000\n",
    "Sensor at x=252214, y=61954: closest beacon is at x=1087565, y=-690123\n",
    "Sensor at x=950, y=1106672: closest beacon is at x=-893678, y=1276864\n",
    "Sensor at x=1349445, y=1752783: closest beacon is at x=2037055, y=2000000\n",
    "Sensor at x=3195828, y=3483667: closest beacon is at x=3334657, y=3531523\n",
    "Sensor at x=2057761, y=2154359: closest beacon is at x=2037055, y=2000000\n",
    "Sensor at x=2315350, y=3364640: closest beacon is at x=2701269, y=3542780\n",
    "Sensor at x=327139, y=2426600: closest beacon is at x=-88420, y=3646947\n",
    "Sensor at x=3943522, y=2854345: closest beacon is at x=3944538, y=3053285\n",
    "Sensor at x=3358620, y=516881: closest beacon is at x=3260516, y=2246079\n",
    "Sensor at x=1788376, y=8679: closest beacon is at x=1087565, y=-690123\n",
    "Sensor at x=3344883, y=3537985: closest beacon is at x=3334657, y=3531523\n",
    "Sensor at x=2961064, y=2697125: closest beacon is at x=2597837, y=2509170\n",
    "Sensor at x=3780090, y=2093546: closest beacon is at x=3260516, y=2246079\n",
    "Sensor at x=3291917, y=3398703: closest beacon is at x=3334657, y=3531523\n",
    "Sensor at x=3999864, y=2998005: closest beacon is at x=3944538, y=3053285\n",
    "Sensor at x=2919272, y=3732950: closest beacon is at x=2701269, y=3542780\n",
    "Sensor at x=2057404, y=2947435: closest beacon is at x=2037055, y=2000000\n",
    "Sensor at x=1072126, y=645784: closest beacon is at x=1087565, y=-690123\n",
    "Sensor at x=3549465, y=2554712: closest beacon is at x=3260516, y=2246079\n",
    "Sensor at x=3550313, y=3121694: closest beacon is at x=3944538, y=3053285\n",
    "Sensor at x=3405149, y=3483630: closest beacon is at x=3334657, y=3531523\n",
    "Sensor at x=2600212, y=3961193: closest beacon is at x=2701269, y=3542780\n",
    "Sensor at x=1102632, y=3932527: closest beacon is at x=-88420, y=3646947\n",
    "Sensor at x=67001, y=3506079: closest beacon is at x=-88420, y=3646947\n",
    "Sensor at x=3994250, y=3975025: closest beacon is at x=3944538, y=3053285\n",
    "Sensor at x=3019750, y=2125144: closest beacon is at x=3260516, y=2246079\n",
    "Sensor at x=3282319, y=3656404: closest beacon is at x=3334657, y=3531523\n",
    "Sensor at x=2797371, y=3645126: closest beacon is at x=2701269, y=3542780'''\n",
    "        \n",
    "    return puzzle\n",
    "\n",
    "\n",
    "puzzle = read_input(example)\n"
   ]
  },
  {
   "cell_type": "markdown",
   "id": "f91ac58e",
   "metadata": {},
   "source": [
    "Parse the coordinates of the sensors and beacons into a pandas dataframe, s. Calculate the exclusion distance, d_ex, as the Manhattan distance from each sensor to its closest beacon. No other beacon can be closer."
   ]
  },
  {
   "cell_type": "code",
   "execution_count": 4,
   "id": "c89d2d45",
   "metadata": {},
   "outputs": [
    {
     "data": {
      "text/html": [
       "<div>\n",
       "<style scoped>\n",
       "    .dataframe tbody tr th:only-of-type {\n",
       "        vertical-align: middle;\n",
       "    }\n",
       "\n",
       "    .dataframe tbody tr th {\n",
       "        vertical-align: top;\n",
       "    }\n",
       "\n",
       "    .dataframe thead th {\n",
       "        text-align: right;\n",
       "    }\n",
       "</style>\n",
       "<table border=\"1\" class=\"dataframe\">\n",
       "  <thead>\n",
       "    <tr style=\"text-align: right;\">\n",
       "      <th></th>\n",
       "      <th>x_s</th>\n",
       "      <th>y_s</th>\n",
       "      <th>x_b</th>\n",
       "      <th>y_b</th>\n",
       "      <th>d_ex</th>\n",
       "    </tr>\n",
       "  </thead>\n",
       "  <tbody>\n",
       "    <tr>\n",
       "      <th>0</th>\n",
       "      <td>2899860</td>\n",
       "      <td>3122031</td>\n",
       "      <td>2701269</td>\n",
       "      <td>3542780</td>\n",
       "      <td>619340</td>\n",
       "    </tr>\n",
       "    <tr>\n",
       "      <th>1</th>\n",
       "      <td>1836719</td>\n",
       "      <td>1116779</td>\n",
       "      <td>2037055</td>\n",
       "      <td>2000000</td>\n",
       "      <td>1083557</td>\n",
       "    </tr>\n",
       "    <tr>\n",
       "      <th>2</th>\n",
       "      <td>3995802</td>\n",
       "      <td>2706630</td>\n",
       "      <td>3944538</td>\n",
       "      <td>3053285</td>\n",
       "      <td>397919</td>\n",
       "    </tr>\n",
       "    <tr>\n",
       "      <th>3</th>\n",
       "      <td>2591204</td>\n",
       "      <td>2008272</td>\n",
       "      <td>2597837</td>\n",
       "      <td>2509170</td>\n",
       "      <td>507531</td>\n",
       "    </tr>\n",
       "    <tr>\n",
       "      <th>4</th>\n",
       "      <td>2546593</td>\n",
       "      <td>1538222</td>\n",
       "      <td>2037055</td>\n",
       "      <td>2000000</td>\n",
       "      <td>971316</td>\n",
       "    </tr>\n",
       "  </tbody>\n",
       "</table>\n",
       "</div>"
      ],
      "text/plain": [
       "       x_s      y_s      x_b      y_b     d_ex\n",
       "0  2899860  3122031  2701269  3542780   619340\n",
       "1  1836719  1116779  2037055  2000000  1083557\n",
       "2  3995802  2706630  3944538  3053285   397919\n",
       "3  2591204  2008272  2597837  2509170   507531\n",
       "4  2546593  1538222  2037055  2000000   971316"
      ]
     },
     "execution_count": 4,
     "metadata": {},
     "output_type": "execute_result"
    }
   ],
   "source": [
    "def parse_sensor_data(puzzle):\n",
    "    \n",
    "    sensors = puzzle.split('\\n')\n",
    "    table = []\n",
    "\n",
    "    for sensor in sensors:\n",
    "        row = []\n",
    "        field = sensor.split()\n",
    "        row.append(int(field[2][2:-1]))\n",
    "        row.append(int(field[3][2:-1]))\n",
    "        row.append(int(field[8][2:-1]))\n",
    "        row.append(int(field[9][2:]))\n",
    "        table.append(row)\n",
    "\n",
    "    sens = pd.DataFrame(table, columns=['x_s', 'y_s', 'x_b', 'y_b'])\n",
    "\n",
    "    sens['d_ex'] = abs(sens['x_b'] - sens['x_s']) + abs(sens['y_b'] - sens['y_s'])\n",
    "    \n",
    "    return sens\n",
    "\n",
    "\n",
    "sens = parse_sensor_data(puzzle)\n",
    "sens.head()\n"
   ]
  },
  {
   "cell_type": "markdown",
   "id": "245fb7cc",
   "metadata": {},
   "source": [
    "Consider a single row, y = n. The shortest distance to the row from each sensor is |y_s - n|. We'll call this distance d_row. \n",
    "\n",
    "Select only the rows for nearby sensors, 'sensn', for which the distance to row n is smaller than d_ex. The other sensors are too far from this row to exclude any locations.\n",
    "\n",
    "Call the remaining distance d_rem. This distance can be applied along the row in either direction, toward x_min or x_max. "
   ]
  },
  {
   "cell_type": "code",
   "execution_count": 5,
   "id": "4f9c3784",
   "metadata": {},
   "outputs": [
    {
     "data": {
      "text/html": [
       "<div>\n",
       "<style scoped>\n",
       "    .dataframe tbody tr th:only-of-type {\n",
       "        vertical-align: middle;\n",
       "    }\n",
       "\n",
       "    .dataframe tbody tr th {\n",
       "        vertical-align: top;\n",
       "    }\n",
       "\n",
       "    .dataframe thead th {\n",
       "        text-align: right;\n",
       "    }\n",
       "</style>\n",
       "<table border=\"1\" class=\"dataframe\">\n",
       "  <thead>\n",
       "    <tr style=\"text-align: right;\">\n",
       "      <th></th>\n",
       "      <th>x_s</th>\n",
       "      <th>y_s</th>\n",
       "      <th>x_b</th>\n",
       "      <th>y_b</th>\n",
       "      <th>d_ex</th>\n",
       "      <th>d_row</th>\n",
       "      <th>d_rem</th>\n",
       "      <th>x_min</th>\n",
       "      <th>x_max</th>\n",
       "    </tr>\n",
       "  </thead>\n",
       "  <tbody>\n",
       "    <tr>\n",
       "      <th>1</th>\n",
       "      <td>1836719</td>\n",
       "      <td>1116779</td>\n",
       "      <td>2037055</td>\n",
       "      <td>2000000</td>\n",
       "      <td>1083557</td>\n",
       "      <td>883221</td>\n",
       "      <td>200336</td>\n",
       "      <td>1636383</td>\n",
       "      <td>2037055</td>\n",
       "    </tr>\n",
       "    <tr>\n",
       "      <th>3</th>\n",
       "      <td>2591204</td>\n",
       "      <td>2008272</td>\n",
       "      <td>2597837</td>\n",
       "      <td>2509170</td>\n",
       "      <td>507531</td>\n",
       "      <td>8272</td>\n",
       "      <td>499259</td>\n",
       "      <td>2091945</td>\n",
       "      <td>3090463</td>\n",
       "    </tr>\n",
       "    <tr>\n",
       "      <th>4</th>\n",
       "      <td>2546593</td>\n",
       "      <td>1538222</td>\n",
       "      <td>2037055</td>\n",
       "      <td>2000000</td>\n",
       "      <td>971316</td>\n",
       "      <td>461778</td>\n",
       "      <td>509538</td>\n",
       "      <td>2037055</td>\n",
       "      <td>3056131</td>\n",
       "    </tr>\n",
       "    <tr>\n",
       "      <th>6</th>\n",
       "      <td>950</td>\n",
       "      <td>1106672</td>\n",
       "      <td>-893678</td>\n",
       "      <td>1276864</td>\n",
       "      <td>1064820</td>\n",
       "      <td>893328</td>\n",
       "      <td>171492</td>\n",
       "      <td>-170542</td>\n",
       "      <td>172442</td>\n",
       "    </tr>\n",
       "    <tr>\n",
       "      <th>7</th>\n",
       "      <td>1349445</td>\n",
       "      <td>1752783</td>\n",
       "      <td>2037055</td>\n",
       "      <td>2000000</td>\n",
       "      <td>934827</td>\n",
       "      <td>247217</td>\n",
       "      <td>687610</td>\n",
       "      <td>661835</td>\n",
       "      <td>2037055</td>\n",
       "    </tr>\n",
       "    <tr>\n",
       "      <th>9</th>\n",
       "      <td>2057761</td>\n",
       "      <td>2154359</td>\n",
       "      <td>2037055</td>\n",
       "      <td>2000000</td>\n",
       "      <td>175065</td>\n",
       "      <td>154359</td>\n",
       "      <td>20706</td>\n",
       "      <td>2037055</td>\n",
       "      <td>2078467</td>\n",
       "    </tr>\n",
       "    <tr>\n",
       "      <th>11</th>\n",
       "      <td>327139</td>\n",
       "      <td>2426600</td>\n",
       "      <td>-88420</td>\n",
       "      <td>3646947</td>\n",
       "      <td>1635906</td>\n",
       "      <td>426600</td>\n",
       "      <td>1209306</td>\n",
       "      <td>-882167</td>\n",
       "      <td>1536445</td>\n",
       "    </tr>\n",
       "    <tr>\n",
       "      <th>13</th>\n",
       "      <td>3358620</td>\n",
       "      <td>516881</td>\n",
       "      <td>3260516</td>\n",
       "      <td>2246079</td>\n",
       "      <td>1827302</td>\n",
       "      <td>1483119</td>\n",
       "      <td>344183</td>\n",
       "      <td>3014437</td>\n",
       "      <td>3702803</td>\n",
       "    </tr>\n",
       "    <tr>\n",
       "      <th>17</th>\n",
       "      <td>3780090</td>\n",
       "      <td>2093546</td>\n",
       "      <td>3260516</td>\n",
       "      <td>2246079</td>\n",
       "      <td>672107</td>\n",
       "      <td>93546</td>\n",
       "      <td>578561</td>\n",
       "      <td>3201529</td>\n",
       "      <td>4358651</td>\n",
       "    </tr>\n",
       "    <tr>\n",
       "      <th>21</th>\n",
       "      <td>2057404</td>\n",
       "      <td>2947435</td>\n",
       "      <td>2037055</td>\n",
       "      <td>2000000</td>\n",
       "      <td>967784</td>\n",
       "      <td>947435</td>\n",
       "      <td>20349</td>\n",
       "      <td>2037055</td>\n",
       "      <td>2077753</td>\n",
       "    </tr>\n",
       "    <tr>\n",
       "      <th>23</th>\n",
       "      <td>3549465</td>\n",
       "      <td>2554712</td>\n",
       "      <td>3260516</td>\n",
       "      <td>2246079</td>\n",
       "      <td>597582</td>\n",
       "      <td>554712</td>\n",
       "      <td>42870</td>\n",
       "      <td>3506595</td>\n",
       "      <td>3592335</td>\n",
       "    </tr>\n",
       "    <tr>\n",
       "      <th>30</th>\n",
       "      <td>3019750</td>\n",
       "      <td>2125144</td>\n",
       "      <td>3260516</td>\n",
       "      <td>2246079</td>\n",
       "      <td>361701</td>\n",
       "      <td>125144</td>\n",
       "      <td>236557</td>\n",
       "      <td>2783193</td>\n",
       "      <td>3256307</td>\n",
       "    </tr>\n",
       "  </tbody>\n",
       "</table>\n",
       "</div>"
      ],
      "text/plain": [
       "        x_s      y_s      x_b      y_b     d_ex    d_row    d_rem    x_min  \\\n",
       "1   1836719  1116779  2037055  2000000  1083557   883221   200336  1636383   \n",
       "3   2591204  2008272  2597837  2509170   507531     8272   499259  2091945   \n",
       "4   2546593  1538222  2037055  2000000   971316   461778   509538  2037055   \n",
       "6       950  1106672  -893678  1276864  1064820   893328   171492  -170542   \n",
       "7   1349445  1752783  2037055  2000000   934827   247217   687610   661835   \n",
       "9   2057761  2154359  2037055  2000000   175065   154359    20706  2037055   \n",
       "11   327139  2426600   -88420  3646947  1635906   426600  1209306  -882167   \n",
       "13  3358620   516881  3260516  2246079  1827302  1483119   344183  3014437   \n",
       "17  3780090  2093546  3260516  2246079   672107    93546   578561  3201529   \n",
       "21  2057404  2947435  2037055  2000000   967784   947435    20349  2037055   \n",
       "23  3549465  2554712  3260516  2246079   597582   554712    42870  3506595   \n",
       "30  3019750  2125144  3260516  2246079   361701   125144   236557  2783193   \n",
       "\n",
       "      x_max  \n",
       "1   2037055  \n",
       "3   3090463  \n",
       "4   3056131  \n",
       "6    172442  \n",
       "7   2037055  \n",
       "9   2078467  \n",
       "11  1536445  \n",
       "13  3702803  \n",
       "17  4358651  \n",
       "21  2077753  \n",
       "23  3592335  \n",
       "30  3256307  "
      ]
     },
     "execution_count": 5,
     "metadata": {},
     "output_type": "execute_result"
    }
   ],
   "source": [
    "def find_xmin_xmax(sens, n):\n",
    "    sens['d_row'] = abs(sens.y_s - n)\n",
    "\n",
    "    nearsens = sens.copy()\n",
    "    nearsens = nearsens[nearsens.d_row < nearsens.d_ex]\n",
    "\n",
    "    nearsens['d_rem'] = nearsens.d_ex - nearsens.d_row\n",
    "\n",
    "    nearsens['x_min'] = nearsens.x_s - nearsens.d_rem\n",
    "    nearsens['x_max'] = nearsens.x_s + nearsens.d_rem\n",
    "    \n",
    "    return nearsens\n",
    "\n",
    "\n",
    "if example:\n",
    "    n = 10\n",
    "else:\n",
    "    n = 2000000\n",
    "\n",
    "nearsens = find_xmin_xmax(sens, n)\n",
    "\n",
    "nearsens\n"
   ]
  },
  {
   "cell_type": "markdown",
   "id": "4fbe9ab4",
   "metadata": {},
   "source": [
    "The exclusion zone for each sensor is the set of locations ranging from x_min to x_max."
   ]
  },
  {
   "cell_type": "code",
   "execution_count": 6,
   "id": "a1933861",
   "metadata": {},
   "outputs": [],
   "source": [
    "nearsens['ex_zone'] = nearsens.apply(lambda r: set(range(r.x_min, r.x_max + 1)), axis=1)\n",
    "if example:\n",
    "    print(nearsens[['x_s', 'y_s', 'd_ex', 'x_min', 'x_max', 'ex_zone']])"
   ]
  },
  {
   "cell_type": "markdown",
   "id": "5ad2ee47",
   "metadata": {},
   "source": [
    "The set of all excluded locations is the union of these sets. No *unknown* beacon can be in any of these locations. "
   ]
  },
  {
   "cell_type": "code",
   "execution_count": 7,
   "id": "816ec071",
   "metadata": {},
   "outputs": [],
   "source": [
    "excluded = set({})\n",
    "\n",
    "for zone in nearsens.ex_zone:\n",
    "    excluded = excluded.union(zone)\n",
    "    \n",
    "if example:\n",
    "    print(excluded)"
   ]
  },
  {
   "cell_type": "markdown",
   "id": "a758dd52",
   "metadata": {},
   "source": [
    "There is, however, the possibility that a *known* beacon is located within the exclusion zone. These locations need to be subtracted from the excluded locations to find the locations where a beacon cannot be."
   ]
  },
  {
   "cell_type": "code",
   "execution_count": 8,
   "id": "66fc5891",
   "metadata": {},
   "outputs": [
    {
     "data": {
      "text/html": [
       "<div>\n",
       "<style scoped>\n",
       "    .dataframe tbody tr th:only-of-type {\n",
       "        vertical-align: middle;\n",
       "    }\n",
       "\n",
       "    .dataframe tbody tr th {\n",
       "        vertical-align: top;\n",
       "    }\n",
       "\n",
       "    .dataframe thead th {\n",
       "        text-align: right;\n",
       "    }\n",
       "</style>\n",
       "<table border=\"1\" class=\"dataframe\">\n",
       "  <thead>\n",
       "    <tr style=\"text-align: right;\">\n",
       "      <th></th>\n",
       "      <th>x_s</th>\n",
       "      <th>y_s</th>\n",
       "      <th>x_b</th>\n",
       "      <th>y_b</th>\n",
       "      <th>d_ex</th>\n",
       "      <th>d_row</th>\n",
       "      <th>d_rem</th>\n",
       "      <th>x_min</th>\n",
       "      <th>x_max</th>\n",
       "      <th>ex_zone</th>\n",
       "    </tr>\n",
       "  </thead>\n",
       "  <tbody>\n",
       "    <tr>\n",
       "      <th>1</th>\n",
       "      <td>1836719</td>\n",
       "      <td>1116779</td>\n",
       "      <td>2037055</td>\n",
       "      <td>2000000</td>\n",
       "      <td>1083557</td>\n",
       "      <td>883221</td>\n",
       "      <td>200336</td>\n",
       "      <td>1636383</td>\n",
       "      <td>2037055</td>\n",
       "      <td>{1636383, 1636384, 1636385, 1636386, 1636387, ...</td>\n",
       "    </tr>\n",
       "  </tbody>\n",
       "</table>\n",
       "</div>"
      ],
      "text/plain": [
       "       x_s      y_s      x_b      y_b     d_ex   d_row   d_rem    x_min  \\\n",
       "1  1836719  1116779  2037055  2000000  1083557  883221  200336  1636383   \n",
       "\n",
       "     x_max                                            ex_zone  \n",
       "1  2037055  {1636383, 1636384, 1636385, 1636386, 1636387, ...  "
      ]
     },
     "execution_count": 8,
     "metadata": {},
     "output_type": "execute_result"
    }
   ],
   "source": [
    "nearsens[(nearsens.y_b == n) & ~nearsens[['x_b', 'y_b']].duplicated()]"
   ]
  },
  {
   "cell_type": "code",
   "execution_count": 9,
   "id": "0fe7aab6",
   "metadata": {},
   "outputs": [
    {
     "name": "stdout",
     "output_type": "stream",
     "text": [
      "Excluded locations: 5240818\n"
     ]
    }
   ],
   "source": [
    "print('Excluded locations:', len(excluded) - len(nearsens[(nearsens.y_b == n) & ~nearsens[['x_b', 'y_b']].duplicated()]))"
   ]
  },
  {
   "cell_type": "markdown",
   "id": "45f8b33f",
   "metadata": {},
   "source": [
    "## Part 2\n",
    "\n",
    "Coordinate limits are defined, and now we will search for the source of the distress signal. The instructions state there's only one possible position.\n",
    "\n",
    "We could iterate through the rows for the example data. But we need a solution that will also work for the puzzle data. So first, let's consider whether we can reasonably loop through 4 million rows, if each row takes about 5 seconds for my puzzle input as observed above."
   ]
  },
  {
   "cell_type": "code",
   "execution_count": 10,
   "id": "e0b0fab4",
   "metadata": {},
   "outputs": [
    {
     "data": {
      "text/plain": [
       "7.71604938271605"
      ]
     },
     "execution_count": 10,
     "metadata": {},
     "output_type": "execute_result"
    }
   ],
   "source": [
    "5 * 4000000 / 60 / 60 / 24 / 30"
   ]
  },
  {
   "cell_type": "markdown",
   "id": "6ebd8de0",
   "metadata": {},
   "source": [
    "Iterating through rows will take almost 8 months. We don't have that kind of time. \n",
    "\n",
    "If there's only one point where the distress beacon can be, then it must be completely surrounded by exclusion zones and/or coordinate boundaries. We'll restrict our search to the spaces that are one step beyond the exclusion zones of the sensors, and within the coordinate boundaries. \n",
    "\n",
    "The exclusion zone of a sensor is a square, extending from the sensor to +/- d_ex in both x and y.  "
   ]
  },
  {
   "cell_type": "code",
   "execution_count": 11,
   "id": "cef15344",
   "metadata": {},
   "outputs": [],
   "source": [
    "sens = parse_sensor_data(puzzle)\n",
    "sens['x_min'] = sens.x_s - sens.d_ex\n",
    "sens['x_max'] = sens.x_s + sens.d_ex\n",
    "sens['y_min'] = sens.y_s - sens.d_ex\n",
    "sens['y_max'] = sens.y_s + sens.d_ex\n",
    "\n",
    "sens = sens.sort_values(by=['d_ex'])\n",
    "sens = sens.reset_index()"
   ]
  },
  {
   "cell_type": "markdown",
   "id": "87203e81",
   "metadata": {},
   "source": [
    "Search just outside the perimeter of each exclusion zone."
   ]
  },
  {
   "cell_type": "code",
   "execution_count": 12,
   "id": "c2f117d3",
   "metadata": {},
   "outputs": [],
   "source": [
    "def search_perimeter(sensor):\n",
    "    '''Return all points, within coordinate limits, that are just outside a sensor's exclusion zone.\n",
    "    w2s (west to south) goes from (xmin-1, ys) to (xs, ymax+1), and so on.'''\n",
    "    x_s = sensor.x_s\n",
    "    y_s = sensor.y_s\n",
    "    d_ex = sensor.d_ex\n",
    "    w2s = set([(x_s - (d_ex + 1) + x, y_s + x) for x in range((d_ex + 1) + 1)])\n",
    "    s2e = set([(x_s + x, y_s + (d_ex + 1) - x) for x in range((d_ex + 1) + 1)])\n",
    "    e2n = set([(x_s + (d_ex + 1) - x, y_s - x) for x in range((d_ex + 1) + 1)])\n",
    "    n2w = set([(x_s - x, y_s - (d_ex + 1) + x) for x in range((d_ex + 1) + 1)])\n",
    "    points = w2s.union(s2e, e2n, n2w)\n",
    "    return points"
   ]
  },
  {
   "cell_type": "code",
   "execution_count": 13,
   "id": "e1080667",
   "metadata": {},
   "outputs": [
    {
     "name": "stdout",
     "output_type": "stream",
     "text": [
      "Wall time: 1min 22s\n"
     ]
    }
   ],
   "source": [
    "%time sens['p_plus'] = sens.apply(search_perimeter, axis=1)"
   ]
  },
  {
   "cell_type": "markdown",
   "id": "b0d2f3fb",
   "metadata": {},
   "source": [
    "Filter out points outside the coordinate boundary."
   ]
  },
  {
   "cell_type": "code",
   "execution_count": 17,
   "id": "c857c6b3",
   "metadata": {},
   "outputs": [],
   "source": [
    "if example:\n",
    "    c_max = 20\n",
    "else:\n",
    "    c_max = 4000000\n",
    "\n",
    "        \n",
    "def in_bounds(point):\n",
    "    '''True where point (x,y) is within coordinate boundaries'''\n",
    "    return (point[0] > 0 and point[0] <= c_max and\n",
    "            point[1] > 0 and point[1] <= c_max)"
   ]
  },
  {
   "cell_type": "code",
   "execution_count": 18,
   "id": "06dfa5dc",
   "metadata": {},
   "outputs": [
    {
     "name": "stdout",
     "output_type": "stream",
     "text": [
      "Wall time: 1min 27s\n"
     ]
    }
   ],
   "source": [
    "%time sens.p_plus = sens.p_plus.apply(lambda x: set(filter(in_bounds, x)))"
   ]
  },
  {
   "cell_type": "markdown",
   "id": "2d30b9b5",
   "metadata": {},
   "source": [
    "Now look for points that are adjacent to 3 exclusion zones."
   ]
  },
  {
   "cell_type": "code",
   "execution_count": 38,
   "id": "3369f37e",
   "metadata": {},
   "outputs": [
    {
     "data": {
      "text/plain": [
       "{(1882696, 2154360),\n",
       " (2037054, 2000000),\n",
       " (2037055, 2000001),\n",
       " (2057405, 1979651),\n",
       " (2057762, 1979294),\n",
       " (2701268, 3542780),\n",
       " (2701269, 3542779),\n",
       " (3260515, 2246079),\n",
       " (3260516, 2246080),\n",
       " (3303271, 2906101),\n",
       " (3328195, 3537986),\n",
       " (3334657, 3531524),\n",
       " (3334658, 3531523),\n",
       " (3344884, 3521297),\n",
       " (3944537, 3053285),\n",
       " (3944538, 3053286)}"
      ]
     },
     "execution_count": 38,
     "metadata": {},
     "output_type": "execute_result"
    }
   ],
   "source": [
    "bounded_3 = set({})\n",
    "\n",
    "for i in range(len(sens)):\n",
    "    s1 = sens.loc[i]\n",
    "    for j in range(i+1, len(sens)):\n",
    "        s2 = sens.loc[j]\n",
    "        for k in range(j+1, len(sens)):\n",
    "            s3 = sens.loc[k]\n",
    "            hope = s1.p_plus.intersection(s2.p_plus, s3.p_plus)\n",
    "            if len(hope) > 0:\n",
    "                bounded_3 = bounded_3.union(hope)\n",
    "\n",
    "                    \n",
    "bounded_3"
   ]
  },
  {
   "cell_type": "markdown",
   "id": "2a9a2a08",
   "metadata": {},
   "source": [
    "Now remove points that are in any sensor's exclusion zone."
   ]
  },
  {
   "cell_type": "code",
   "execution_count": 39,
   "id": "e260c754",
   "metadata": {},
   "outputs": [],
   "source": [
    "def excluded(point, sensor):\n",
    "    return abs(point[0] - sensor.x_s) + abs(point[1] - sensor.y_s) <= sensor.d_ex\n",
    "    \n",
    "\n",
    "excluded_points = set({})\n",
    "\n",
    "for point in bounded_3:\n",
    "    for s in range(len(sens)):\n",
    "        sensor = sens.loc[s]        \n",
    "        if excluded(point, sensor):\n",
    "            excluded_points.add(point)\n",
    "            "
   ]
  },
  {
   "cell_type": "code",
   "execution_count": 40,
   "id": "38a28b05",
   "metadata": {},
   "outputs": [
    {
     "data": {
      "text/plain": [
       "{(3303271, 2906101)}"
      ]
     },
     "execution_count": 40,
     "metadata": {},
     "output_type": "execute_result"
    }
   ],
   "source": [
    "answer = bounded_3.difference(excluded_points)\n",
    "answer"
   ]
  },
  {
   "cell_type": "code",
   "execution_count": 41,
   "id": "44ca588f",
   "metadata": {},
   "outputs": [
    {
     "name": "stdout",
     "output_type": "stream",
     "text": [
      "Tuning frequency is: 13213086906101\n"
     ]
    }
   ],
   "source": [
    "for point in answer:\n",
    "    print('Tuning frequency is:', 4000000 * point[0] + point[1])"
   ]
  },
  {
   "cell_type": "code",
   "execution_count": null,
   "id": "5ee77753",
   "metadata": {},
   "outputs": [],
   "source": []
  }
 ],
 "metadata": {
  "kernelspec": {
   "display_name": "Python 3 (ipykernel)",
   "language": "python",
   "name": "python3"
  },
  "language_info": {
   "codemirror_mode": {
    "name": "ipython",
    "version": 3
   },
   "file_extension": ".py",
   "mimetype": "text/x-python",
   "name": "python",
   "nbconvert_exporter": "python",
   "pygments_lexer": "ipython3",
   "version": "3.9.6"
  }
 },
 "nbformat": 4,
 "nbformat_minor": 5
}
