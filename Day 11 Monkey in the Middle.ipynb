{
 "cells": [
  {
   "cell_type": "markdown",
   "id": "7e35805f",
   "metadata": {},
   "source": [
    "https://adventofcode.com/2022/day/11"
   ]
  },
  {
   "cell_type": "code",
   "execution_count": 1,
   "id": "c3dd0d4c",
   "metadata": {},
   "outputs": [],
   "source": [
    "import numpy as np"
   ]
  },
  {
   "cell_type": "markdown",
   "id": "fff8a5df",
   "metadata": {},
   "source": [
    "Read in puzzle input, or use example input"
   ]
  },
  {
   "cell_type": "code",
   "execution_count": 2,
   "id": "2c902109",
   "metadata": {},
   "outputs": [],
   "source": [
    "# puzzle\n",
    "with open('monkeys.txt', 'r') as f:\n",
    "    notes = f.read()"
   ]
  },
  {
   "cell_type": "raw",
   "id": "714e9d10",
   "metadata": {},
   "source": [
    "# example\n",
    "notes = '''Monkey 0:\n",
    "  Starting items: 79, 98\n",
    "  Operation: new = old * 19\n",
    "  Test: divisible by 23\n",
    "    If true: throw to monkey 2\n",
    "    If false: throw to monkey 3\n",
    "\n",
    "Monkey 1:\n",
    "  Starting items: 54, 65, 75, 74\n",
    "  Operation: new = old + 6\n",
    "  Test: divisible by 19\n",
    "    If true: throw to monkey 2\n",
    "    If false: throw to monkey 0\n",
    "\n",
    "Monkey 2:\n",
    "  Starting items: 79, 60, 97\n",
    "  Operation: new = old * old\n",
    "  Test: divisible by 13\n",
    "    If true: throw to monkey 1\n",
    "    If false: throw to monkey 3\n",
    "\n",
    "Monkey 3:\n",
    "  Starting items: 74\n",
    "  Operation: new = old + 3\n",
    "  Test: divisible by 17\n",
    "    If true: throw to monkey 0\n",
    "    If false: throw to monkey 1'''"
   ]
  },
  {
   "cell_type": "markdown",
   "id": "2bf07f84",
   "metadata": {},
   "source": [
    "That makes sense to a human, but not a program. Let's organize it in a dictionary."
   ]
  },
  {
   "cell_type": "code",
   "execution_count": 3,
   "id": "4f64c40d",
   "metadata": {},
   "outputs": [],
   "source": [
    "def readnotes(notes):\n",
    "    monkeybiz = {}\n",
    "    troop = notes.split('\\n\\n')\n",
    "    for monkey in troop:\n",
    "        attributes = monkey.split('\\n')\n",
    "        name = attributes[0].lower()[:-1]\n",
    "        monkeybiz[name] = {}\n",
    "        while len(attributes) > 1:\n",
    "            attr = attributes.pop(1).strip().split(': ')\n",
    "            if attr[0] == 'Starting items':\n",
    "                attr[0] = 'items'\n",
    "                attr[1] = list(map(int, attr[1].split(', ')))\n",
    "            if attr[0] == 'Operation':\n",
    "                attr[0] = 'oper'\n",
    "                attr[1] = attr[1].replace('new = old ', '')\n",
    "            if attr[0] == 'Test':\n",
    "                attr[0] = 'test'\n",
    "                attr[1] = attr[1].replace('divisible by', '%')\n",
    "            if attr[0] == 'If true':\n",
    "                attr[0] = 'true'\n",
    "                attr[1] = attr[1].replace('throw to ', '')\n",
    "            if attr[0] == 'If false':\n",
    "                attr[0] = 'false'\n",
    "                attr[1] = attr[1].replace('throw to ', '')\n",
    "            monkeybiz[name][attr[0]] = attr[1]\n",
    "            monkeybiz[name]['business'] = 0\n",
    "    return monkeybiz"
   ]
  },
  {
   "cell_type": "code",
   "execution_count": 4,
   "id": "f86b8027",
   "metadata": {},
   "outputs": [
    {
     "data": {
      "text/plain": [
       "{'monkey 0': {'items': [65, 58, 93, 57, 66],\n",
       "  'business': 0,\n",
       "  'oper': '* 7',\n",
       "  'test': '% 19',\n",
       "  'true': 'monkey 6',\n",
       "  'false': 'monkey 4'},\n",
       " 'monkey 1': {'items': [76, 97, 58, 72, 57, 92, 82],\n",
       "  'business': 0,\n",
       "  'oper': '+ 4',\n",
       "  'test': '% 3',\n",
       "  'true': 'monkey 7',\n",
       "  'false': 'monkey 5'},\n",
       " 'monkey 2': {'items': [90, 89, 96],\n",
       "  'business': 0,\n",
       "  'oper': '* 5',\n",
       "  'test': '% 13',\n",
       "  'true': 'monkey 5',\n",
       "  'false': 'monkey 1'},\n",
       " 'monkey 3': {'items': [72, 63, 72, 99],\n",
       "  'business': 0,\n",
       "  'oper': '* old',\n",
       "  'test': '% 17',\n",
       "  'true': 'monkey 0',\n",
       "  'false': 'monkey 4'},\n",
       " 'monkey 4': {'items': [65],\n",
       "  'business': 0,\n",
       "  'oper': '+ 1',\n",
       "  'test': '% 2',\n",
       "  'true': 'monkey 6',\n",
       "  'false': 'monkey 2'},\n",
       " 'monkey 5': {'items': [97, 71],\n",
       "  'business': 0,\n",
       "  'oper': '+ 8',\n",
       "  'test': '% 11',\n",
       "  'true': 'monkey 7',\n",
       "  'false': 'monkey 3'},\n",
       " 'monkey 6': {'items': [83, 68, 88, 55, 87, 67],\n",
       "  'business': 0,\n",
       "  'oper': '+ 2',\n",
       "  'test': '% 5',\n",
       "  'true': 'monkey 2',\n",
       "  'false': 'monkey 1'},\n",
       " 'monkey 7': {'items': [64, 81, 50, 96, 82, 53, 62, 92],\n",
       "  'business': 0,\n",
       "  'oper': '+ 5',\n",
       "  'test': '% 7',\n",
       "  'true': 'monkey 3',\n",
       "  'false': 'monkey 0'}}"
      ]
     },
     "execution_count": 4,
     "metadata": {},
     "output_type": "execute_result"
    }
   ],
   "source": [
    "monkeybiz = readnotes(notes)\n",
    "\n",
    "monkeybiz"
   ]
  },
  {
   "cell_type": "markdown",
   "id": "107a39bc",
   "metadata": {},
   "source": [
    "Create functions for the inspection and test steps, for clarity."
   ]
  },
  {
   "cell_type": "code",
   "execution_count": 5,
   "id": "e3c38090",
   "metadata": {},
   "outputs": [],
   "source": [
    "def inspect(item, oper):\n",
    "    op = oper.split()[0]\n",
    "    value = oper.split()[1]\n",
    "    if value == 'old':\n",
    "        value = item\n",
    "    if op == '+':\n",
    "        item = item + int(value)\n",
    "    elif op == '*':\n",
    "        item = item * int(value)\n",
    "    return item\n",
    "\n",
    "\n",
    "def test(item, test):\n",
    "    value = test.split()[1]\n",
    "    return item % int(value) == 0"
   ]
  },
  {
   "cell_type": "markdown",
   "id": "17d5477d",
   "metadata": {},
   "source": [
    "All right, let's throw some packages."
   ]
  },
  {
   "cell_type": "code",
   "execution_count": 6,
   "id": "6a83326a",
   "metadata": {},
   "outputs": [],
   "source": [
    "rounds = 20\n",
    "\n",
    "while rounds > 0:\n",
    "    for monkey in monkeybiz.keys():\n",
    "        while len(monkeybiz[monkey]['items']) > 0:\n",
    "            item = int(monkeybiz[monkey]['items'].pop(0))\n",
    "            item = inspect(item, monkeybiz[monkey]['oper'])\n",
    "            monkeybiz[monkey]['business'] += 1\n",
    "            item = int(item/3)\n",
    "            if test(item, monkeybiz[monkey]['test']):\n",
    "                catcher = monkeybiz[monkey]['true']\n",
    "            else:\n",
    "                catcher = monkeybiz[monkey]['false']\n",
    "            monkeybiz[catcher]['items'].append(item)\n",
    "            \n",
    "    rounds -= 1"
   ]
  },
  {
   "cell_type": "code",
   "execution_count": 7,
   "id": "421688cd",
   "metadata": {},
   "outputs": [
    {
     "name": "stdout",
     "output_type": "stream",
     "text": [
      "monkey 0 51\n",
      "monkey 1 247\n",
      "monkey 2 204\n",
      "monkey 3 201\n",
      "monkey 4 249\n",
      "monkey 5 216\n",
      "monkey 6 53\n",
      "monkey 7 47\n"
     ]
    }
   ],
   "source": [
    "for monkey in monkeybiz:\n",
    "    print (monkey, monkeybiz[monkey]['business'])"
   ]
  },
  {
   "cell_type": "raw",
   "id": "e85ac858",
   "metadata": {},
   "source": [
    "# Part 1\n",
    "247*249"
   ]
  },
  {
   "cell_type": "markdown",
   "id": "13cfc889",
   "metadata": {},
   "source": [
    "Part 2 took me three days to figure out. \n",
    "\n",
    "I tried using gmpy2 package to improve computational speed with large numbers. It helped up to 1000 rounds, but that was the most it could handle in a few minutes. I checked the length of one of Monkey 0's items and the worry level had 48 million digits. \n",
    "\n",
    "For the next two days I tried to understand what lower number I could pass that would be processed the same way by all the subsequent monkeys, or whether a small number of paths through the monkeys could be predicted for a particular item.... \n",
    "\n",
    "Eventually I noticed that multiplying a number by x had no affect on whether the result is divisible by y, and that for addition if you operated on the remainder instead of the full number the result would be the same: (x + a) % y = (x % y + a) % y. I tried replacing the item with its remainder and passing the result of the inspection along to the next monkey... the computation was fast but the inspection counts were off. Passing the remainder of the test didn't work either.\n",
    "\n",
    "For two more days I tried to find a way to reduce the item number but still have all the monkeys route the item the same way. I was stuck because when a monkey's inspection alters the value, every monkey's test responds differently. \n",
    "\n",
    "Eventually I realized that instead of passing a single number, I would need to pass the remainders for each monkey's test. \n",
    "\n",
    "Step 1: express all the items in terms of their remainders."
   ]
  },
  {
   "cell_type": "code",
   "execution_count": 8,
   "id": "60106027",
   "metadata": {},
   "outputs": [],
   "source": [
    "monkeybiz = readnotes(notes)\n",
    "divisors = []\n",
    "\n",
    "for monkey in monkeybiz:\n",
    "    divisors.append(int(monkeybiz[monkey]['test'].split()[1]))    \n",
    "\n",
    "divisors = np.array(divisors)\n",
    "\n",
    "for monkey in monkeybiz:\n",
    "    monkeybiz[monkey]['remainders'] = []\n",
    "    for item in monkeybiz[monkey]['items']:        \n",
    "        r = []\n",
    "        for i in range(len(divisors)):\n",
    "            r.append(item % divisors[i])\n",
    "        r = np.array(r)\n",
    "        monkeybiz[monkey]['remainders'].append(r)"
   ]
  },
  {
   "cell_type": "raw",
   "id": "7dabe9ee",
   "metadata": {},
   "source": [
    "monkeybiz"
   ]
  },
  {
   "cell_type": "markdown",
   "id": "d1e18551",
   "metadata": {},
   "source": [
    "Modify the inspection, test, and decision slightly to accommodate the new format of the item."
   ]
  },
  {
   "cell_type": "code",
   "execution_count": 9,
   "id": "3e38a2d3",
   "metadata": {},
   "outputs": [],
   "source": [
    "def inspect(item, oper):\n",
    "    op = oper.split()[0]\n",
    "    value = oper.split()[1]\n",
    "    if value == 'old':\n",
    "        value = item\n",
    "    else:\n",
    "        value = int(value)\n",
    "    if op == '+':\n",
    "        item = item + value\n",
    "    elif op == '*':\n",
    "        item = item * value\n",
    "    return item\n",
    "\n",
    "def test(item, divisors):\n",
    "    return item % divisors\n",
    "\n",
    "rounds = 10000\n",
    "\n",
    "while rounds > 0:\n",
    "    for monkey in monkeybiz.keys():\n",
    "        monkeynum = int(monkey[-1])\n",
    "        while len(monkeybiz[monkey]['remainders']) > 0:\n",
    "            item = monkeybiz[monkey]['remainders'].pop(0)\n",
    "            item = inspect(item, monkeybiz[monkey]['oper'])\n",
    "            item = test(item, divisors)\n",
    "            if item[monkeynum] == 0:\n",
    "                catcher = monkeybiz[monkey]['true']\n",
    "            else:\n",
    "                catcher = monkeybiz[monkey]['false']\n",
    "            monkeybiz[catcher]['remainders'].append(item)\n",
    "\n",
    "            monkeybiz[monkey]['business'] += 1\n",
    "            \n",
    "    rounds -= 1"
   ]
  },
  {
   "cell_type": "code",
   "execution_count": 10,
   "id": "355bd501",
   "metadata": {},
   "outputs": [
    {
     "name": "stdout",
     "output_type": "stream",
     "text": [
      "monkey 0 45924\n",
      "monkey 1 131087\n",
      "monkey 2 87798\n",
      "monkey 3 95174\n",
      "monkey 4 107420\n",
      "monkey 5 96174\n",
      "monkey 6 74384\n",
      "monkey 7 41580\n"
     ]
    }
   ],
   "source": [
    "for monkey in monkeybiz:\n",
    "    print (monkey, monkeybiz[monkey]['business'])"
   ]
  },
  {
   "cell_type": "code",
   "execution_count": 11,
   "id": "1e931e84",
   "metadata": {},
   "outputs": [
    {
     "data": {
      "text/plain": [
       "14081365540"
      ]
     },
     "execution_count": 11,
     "metadata": {},
     "output_type": "execute_result"
    }
   ],
   "source": [
    "131087 * 107420"
   ]
  },
  {
   "cell_type": "code",
   "execution_count": null,
   "id": "15a7dca2",
   "metadata": {},
   "outputs": [],
   "source": []
  }
 ],
 "metadata": {
  "kernelspec": {
   "display_name": "Python 3 (ipykernel)",
   "language": "python",
   "name": "python3"
  },
  "language_info": {
   "codemirror_mode": {
    "name": "ipython",
    "version": 3
   },
   "file_extension": ".py",
   "mimetype": "text/x-python",
   "name": "python",
   "nbconvert_exporter": "python",
   "pygments_lexer": "ipython3",
   "version": "3.9.6"
  }
 },
 "nbformat": 4,
 "nbformat_minor": 5
}
