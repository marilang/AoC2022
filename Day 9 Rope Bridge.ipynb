{
 "cells": [
  {
   "cell_type": "markdown",
   "id": "0b9ecdcf",
   "metadata": {},
   "source": [
    "# --- Day 9: Rope Bridge ---\n",
    "\n",
    "For more detail, see https://adventofcode.com/2022/day/9 \n",
    "\n",
    "Consider a rope with a knot at each end; these knots mark the head and the tail of the rope. If the head moves far enough away from the tail, the tail is pulled toward the head.\n",
    "\n",
    "Due to nebulous reasoning involving Planck lengths, you should be able to model the positions of the knots on a two-dimensional grid. Then, by following a hypothetical series of motions (your puzzle input) for the head, you can determine how the tail will move.\n",
    "\n",
    "Due to the aforementioned Planck lengths, the rope must be quite short; in fact, the head (H) and tail (T) must always be touching (diagonally adjacent and even overlapping both count as touching):\n",
    "\n",
    "If the head is ever two steps directly up, down, left, or right from the tail, the tail must also move one step in that direction so it remains close enough:\n",
    "\n",
    "Otherwise, if the head and tail aren't touching and aren't in the same row or column, the tail always moves one step diagonally to keep up:\n",
    "\n",
    "You just need to work out where the tail goes as the head follows a series of motions. Assume the head and the tail both start at the same position, overlapping.\n",
    "\n",
    "For example:"
   ]
  },
  {
   "cell_type": "raw",
   "id": "cc194ff3",
   "metadata": {},
   "source": [
    "R 4\n",
    "U 4\n",
    "L 3\n",
    "D 1\n",
    "R 4\n",
    "D 1\n",
    "L 5\n",
    "R 2"
   ]
  },
  {
   "cell_type": "markdown",
   "id": "e89e4fbb",
   "metadata": {},
   "source": [
    "This series of motions moves the head right four steps, then up four steps, then left three steps, then down one step, and so on. After each step, you'll need to update the position of the tail if the step means the head is no longer adjacent to the tail. Visually, these motions occur as follows (s marks the starting position as a reference point):"
   ]
  },
  {
   "cell_type": "raw",
   "id": "67058198",
   "metadata": {},
   "source": [
    "== Initial State ==\n",
    "\n",
    "......\n",
    "......\n",
    "......\n",
    "......\n",
    "H.....  (H covers T, s)\n",
    "\n",
    "\n",
    "== R 4 ==\n",
    "\n",
    "......        ......        ......        ......\n",
    "......        ......        ......        ......\n",
    "......   ->   ......   ->   ......   ->   ......\n",
    "......        ......        ......        ......\n",
    "TH....        sTH...        s.TH..        s..TH.\n",
    "\n",
    "\n",
    "== U 2 ==\n",
    "\n",
    "......        ......\n",
    "......        ......\n",
    "......   ->   ....H.\n",
    "....H.        ....T.\n",
    "s..T..        s.....\n",
    "\n",
    "\n",
    "After simulating the rope, you can count up all of the positions the tail visited at least once. In this diagram, s again marks the starting position (which the tail also visited) and # marks other positions the tail visited:\n",
    "\n",
    "..##..\n",
    "...##.\n",
    ".####.\n",
    "....#.\n",
    "s###..\n",
    "\n",
    "So, there are 13 positions the tail visited at least once.\n",
    "\n",
    "Simulate your complete hypothetical series of motions. How many positions does the tail of the rope visit at least once?"
   ]
  },
  {
   "cell_type": "markdown",
   "id": "16a788eb",
   "metadata": {},
   "source": [
    "## My approach\n",
    "\n",
    "Represent the positions of the head (H) and tail (T) relative to the starting position ([0 0]) as numpy arrays containing x,y coordinates.\n",
    "\n",
    "Each step in the series of motions will result in a displacement (D) of the head, horizontally or vertically, by one unit in the given direction.\n",
    "\n",
    "The displacement of the head will result in tension in the rope. The force (F) of this tension is proportional to the Euclidean distance. To avoid dealing with rounding errors, we'll work with the square of the distance.\n",
    "\n",
    "If head and tail are adjacent, including diagonally, Fsq <= 2 and the tail doesn't move.\n",
    "\n",
    "If the head moves to a position 2 units horizontally or vertically from the tail, now Fsq > 2 and the tail moves one unit in the direction of the nonzero F component. The tail displacement is thus sign(F).\n",
    "\n",
    "If the head is already diagonally adjacent, and it moves farther from the tail, then the tail will move one unit in each dimension toward the head. The tail displacement in this case is still sign(F).\n",
    "\n",
    "If the tail is in a location we haven't visited yet, make a note of it. Store the coordinates in a dictionary as a text label. A list would also work, but I thought the dictionary might offer more flexibility for the unknown part 2."
   ]
  },
  {
   "cell_type": "code",
   "execution_count": 1,
   "id": "05435ac0",
   "metadata": {},
   "outputs": [
    {
     "data": {
      "text/plain": [
       "6236"
      ]
     },
     "execution_count": 1,
     "metadata": {},
     "output_type": "execute_result"
    }
   ],
   "source": [
    "import numpy as np\n",
    "\n",
    "with open('ropemoves.txt', 'r') as f:\n",
    "    moves = f.read().split('\\n')\n",
    "\n",
    "H = np.array([0, 0])\n",
    "T = np.array([0, 0])\n",
    "visited = {}\n",
    "visited[np.array2string(T)] = 1\n",
    "\n",
    "for line in moves:\n",
    "    direc = line.split()[0]\n",
    "    steps = int(line.split()[1])\n",
    "\n",
    "    for i in range(steps):\n",
    "        if direc==\"R\":\n",
    "            D = np.array([1, 0])\n",
    "        if direc==\"U\":\n",
    "            D = np.array([0, 1])\n",
    "        if direc==\"L\":\n",
    "            D = np.array([-1, 0])\n",
    "        if direc==\"D\":\n",
    "            D = np.array([0, -1])\n",
    "        H = H + D\n",
    "\n",
    "        F = H - T\n",
    "        Fsq = F[0]**2 + F[1]**2\n",
    "\n",
    "        if Fsq > 2:\n",
    "            T = T + np.sign(F)\n",
    "            if not np.array2string(T) in visited:\n",
    "                visited[np.array2string(T)] = 1\n",
    "\n",
    "len(visited)"
   ]
  },
  {
   "cell_type": "markdown",
   "id": "f60c92d2",
   "metadata": {},
   "source": [
    "## --- Part Two ---\n",
    "\n",
    "Rather than two knots, you now must simulate a rope consisting of ten knots. One knot is still the head of the rope and moves according to the series of motions. Each knot further down the rope follows the knot in front of it using the same rules as before.\n",
    "\n",
    "Simulate your complete series of motions on a larger rope with ten knots. How many positions does the tail of the rope visit at least once?\n",
    "\n",
    "Be careful: more types of motion are possible than before."
   ]
  },
  {
   "cell_type": "markdown",
   "id": "f5c48ac8",
   "metadata": {},
   "source": [
    "### My approach\n",
    "Since knots other than the head can move diagonally, the rope can now stretch up to 2 diagonal positions between knots. The force is a little stronger but the previous logic still holds: the next knot will move one unit in each dimension towards the knot it's following so its displacement is sign(F).\n",
    "\n",
    "Using a 2D array, we can represent a rope with an arbitrary number of knots. "
   ]
  },
  {
   "cell_type": "code",
   "execution_count": 2,
   "id": "8438eaea",
   "metadata": {},
   "outputs": [],
   "source": [
    "knots = 10\n",
    "rope = np.array([[0, 0] for i in range(knots)])\n",
    "\n",
    "visited = {}\n",
    "visited[np.array2string(rope[knots-1])] = 1\n",
    "\n",
    "for line in moves:\n",
    "    direc = line.split()[0]\n",
    "    steps = int(line.split()[1])\n",
    "\n",
    "    for i in range(steps):\n",
    "        if direc==\"R\":\n",
    "            D = np.array([1, 0])\n",
    "        if direc==\"U\":\n",
    "            D = + np.array([0, 1])\n",
    "        if direc==\"L\":\n",
    "            D = + np.array([-1, 0])\n",
    "        if direc==\"D\":\n",
    "            D = + np.array([0, -1])\n",
    "        rope[0] = rope[0] + D\n",
    "\n",
    "        for k in range(1, knots):          \n",
    "            F = rope[k-1] - rope[k]\n",
    "            Fsq = F[0]**2 + F[1]**2\n",
    "            if Fsq > 2:\n",
    "                rope[k] += np.sign(F)\n",
    "            if k==knots-1 and not np.array2string(rope[k]) in visited:\n",
    "                visited[np.array2string(rope[k])] = 1\n",
    "                    "
   ]
  },
  {
   "cell_type": "code",
   "execution_count": 3,
   "id": "6cf184ed",
   "metadata": {},
   "outputs": [
    {
     "data": {
      "text/plain": [
       "2449"
      ]
     },
     "execution_count": 3,
     "metadata": {},
     "output_type": "execute_result"
    }
   ],
   "source": [
    "len(visited)"
   ]
  },
  {
   "cell_type": "code",
   "execution_count": null,
   "id": "e5af4d05",
   "metadata": {},
   "outputs": [],
   "source": []
  }
 ],
 "metadata": {
  "kernelspec": {
   "display_name": "Python 3 (ipykernel)",
   "language": "python",
   "name": "python3"
  },
  "language_info": {
   "codemirror_mode": {
    "name": "ipython",
    "version": 3
   },
   "file_extension": ".py",
   "mimetype": "text/x-python",
   "name": "python",
   "nbconvert_exporter": "python",
   "pygments_lexer": "ipython3",
   "version": "3.9.6"
  }
 },
 "nbformat": 4,
 "nbformat_minor": 5
}
