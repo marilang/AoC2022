{
 "cells": [
  {
   "cell_type": "markdown",
   "id": "0b9ecdcf",
   "metadata": {},
   "source": [
    "# --- Day 9: Rope Bridge ---\n",
    "\n",
    "For problem description, see https://adventofcode.com/2022/day/9 \n",
    "\n",
    "## My approach\n",
    "\n",
    "Represent the positions of the head (H) and tail (T) relative to the starting position ([0 0]) as numpy arrays containing x,y coordinates.\n",
    "\n",
    "Each step in the series of motions will result in a displacement (D) of the head, horizontally or vertically, by one unit in the given direction.\n",
    "\n",
    "The displacement of the head will result in tension in the rope. The force (F) of this tension is proportional to the Euclidean distance. To avoid dealing with rounding errors, we'll work with the square of the distance.\n",
    "\n",
    "If head and tail are adjacent, including diagonally, Fsq <= 2 and the tail doesn't move.\n",
    "\n",
    "If the head moves to a position 2 units horizontally or vertically from the tail, now Fsq > 2 and the tail moves one unit in the direction of the nonzero F component. The tail displacement is thus sign(F).\n",
    "\n",
    "If the head is already diagonally adjacent, and it moves farther from the tail, then the tail will move one unit in each dimension toward the head. The tail displacement in this case is still sign(F).\n",
    "\n",
    "If the tail is in a location we haven't visited yet, store the coordinates as text."
   ]
  },
  {
   "cell_type": "code",
   "execution_count": 1,
   "id": "978f5b28",
   "metadata": {},
   "outputs": [],
   "source": [
    "import numpy as np\n",
    "\n",
    "def tlab(ar):\n",
    "    '''make a text label from the array containing tail coordinates'''\n",
    "    return np.array2string(ar)\n",
    "    \n",
    "    \n",
    "with open('ropemoves.txt', 'r') as f:\n",
    "    moves = f.read().split('\\n')"
   ]
  },
  {
   "cell_type": "code",
   "execution_count": 2,
   "id": "ebdff26b",
   "metadata": {},
   "outputs": [],
   "source": [
    "H = np.array([0, 0])\n",
    "T = np.array([0, 0])\n",
    "visited = [tlab(T)]\n",
    "\n",
    "for line in moves:\n",
    "    direc = line.split()[0]\n",
    "    steps = int(line.split()[1])\n",
    "\n",
    "    if direc == \"R\":\n",
    "        D = np.array([1, 0])\n",
    "    elif direc==\"L\":\n",
    "        D = np.array([-1, 0])\n",
    "    elif direc==\"U\":\n",
    "        D = np.array([0, 1])\n",
    "    elif direc==\"D\":\n",
    "        D = np.array([0, -1])\n",
    "    \n",
    "    for i in range(steps):\n",
    "        H = H + D\n",
    "        F = H - T\n",
    "        Fsq = F[0]**2 + F[1]**2\n",
    "        if Fsq > 2:\n",
    "            T = T + np.sign(F)\n",
    "            t_lab = tlab(T)\n",
    "            if not t_lab in visited:\n",
    "                visited.append(t_lab)"
   ]
  },
  {
   "cell_type": "code",
   "execution_count": 3,
   "id": "05435ac0",
   "metadata": {},
   "outputs": [
    {
     "data": {
      "text/plain": [
       "6236"
      ]
     },
     "execution_count": 3,
     "metadata": {},
     "output_type": "execute_result"
    }
   ],
   "source": [
    "len(visited)"
   ]
  },
  {
   "cell_type": "markdown",
   "id": "f60c92d2",
   "metadata": {},
   "source": [
    "## --- Part Two ---\n",
    "\n",
    "Since knots other than the head can move diagonally, the rope can now stretch up to 2 diagonal positions between knots. The force is a little stronger but the previous logic still holds: the next knot will move one unit in each dimension towards the knot it's following so its displacement is sign(F).\n",
    "\n",
    "Using a 2D array, we can represent a rope with an arbitrary number of knots. "
   ]
  },
  {
   "cell_type": "code",
   "execution_count": 4,
   "id": "5ab33e19",
   "metadata": {},
   "outputs": [],
   "source": [
    "knots = 10\n",
    "\n",
    "rope = np.array([[0, 0] for i in range(knots)])\n",
    "t_lab = tlab(rope[knots-1])\n",
    "visited = [t_lab]\n",
    "\n",
    "for line in moves:\n",
    "    direc = line.split()[0]\n",
    "    steps = int(line.split()[1])\n",
    "\n",
    "    if direc == \"R\":\n",
    "        D = np.array([1, 0])\n",
    "    elif direc==\"L\":\n",
    "        D = np.array([-1, 0])\n",
    "    elif direc==\"U\":\n",
    "        D = np.array([0, 1])\n",
    "    elif direc==\"D\":\n",
    "        D = np.array([0, -1])\n",
    "    \n",
    "    for i in range(steps):\n",
    "        rope[0] = rope[0] + D\n",
    "\n",
    "        for k in range(1, knots):          \n",
    "            F = rope[k-1] - rope[k]\n",
    "            Fsq = F[0]**2 + F[1]**2\n",
    "            if Fsq > 2:\n",
    "                rope[k] += np.sign(F)\n",
    "            if k==knots-1:\n",
    "                t_lab = tlab(rope[k])\n",
    "                if not t_lab in visited:\n",
    "                    visited.append(t_lab)"
   ]
  },
  {
   "cell_type": "code",
   "execution_count": 5,
   "id": "8438eaea",
   "metadata": {},
   "outputs": [
    {
     "data": {
      "text/plain": [
       "2449"
      ]
     },
     "execution_count": 5,
     "metadata": {},
     "output_type": "execute_result"
    }
   ],
   "source": [
    "len(visited)"
   ]
  },
  {
   "cell_type": "code",
   "execution_count": null,
   "id": "e5af4d05",
   "metadata": {},
   "outputs": [],
   "source": []
  }
 ],
 "metadata": {
  "kernelspec": {
   "display_name": "Python 3 (ipykernel)",
   "language": "python",
   "name": "python3"
  },
  "language_info": {
   "codemirror_mode": {
    "name": "ipython",
    "version": 3
   },
   "file_extension": ".py",
   "mimetype": "text/x-python",
   "name": "python",
   "nbconvert_exporter": "python",
   "pygments_lexer": "ipython3",
   "version": "3.9.6"
  }
 },
 "nbformat": 4,
 "nbformat_minor": 5
}
